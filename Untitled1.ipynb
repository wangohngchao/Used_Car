{
 "cells": [
  {
   "cell_type": "code",
   "execution_count": 8,
   "metadata": {},
   "outputs": [
    {
     "name": "stdout",
     "output_type": "stream",
     "text": [
      "5\n",
      "0 2\n",
      "1 1\n",
      " 1 0\n",
      "1 0\n",
      "2 0\n",
      "[0, 2]\n",
      "[1, 0]\n",
      "[1, 0]\n",
      "[1, 1]\n",
      "[2, 0]\n"
     ]
    }
   ],
   "source": [
    "n = int(input())\n",
    "a = list(map(int, input().rstrip().split()))\n",
    "for _ in range(n):\n",
    "\ta.append(list(map(int, input().rstrip().split())))\n",
    "a = sorted(a,key=lambda x: (-x[1] , -x[0]))\n",
    "c = 1\n",
    "ans = 0\n",
    "index = 0\n",
    "while(c):\n",
    "    c -= 1\n",
    "    ans += a[index][0]\n",
    "    c += a[index][1]\n",
    "    index += 1\n",
    "print(ans) "
   ]
  },
  {
   "cell_type": "code",
   "execution_count": 24,
   "metadata": {},
   "outputs": [],
   "source": [
    "a = sorted(a,key=lambda x: (-x[1] , -x[0]))"
   ]
  },
  {
   "cell_type": "code",
   "execution_count": 25,
   "metadata": {},
   "outputs": [
    {
     "name": "stdout",
     "output_type": "stream",
     "text": [
      "4\n"
     ]
    }
   ],
   "source": [
    "c = 1\n",
    "ans = 0\n",
    "index = 0\n",
    "while(c):\n",
    "    c -= 1\n",
    "    ans += a[index][0]\n",
    "    c += a[index][1]\n",
    "    index += 1\n",
    "print(ans) "
   ]
  },
  {
   "cell_type": "code",
   "execution_count": 15,
   "metadata": {},
   "outputs": [
    {
     "name": "stdout",
     "output_type": "stream",
     "text": [
      "2\n",
      "1\n",
      "0\n",
      "0\n",
      "0\n"
     ]
    }
   ],
   "source": [
    "c = 1\n",
    "ans = 0\n",
    "\n",
    "for i in range(0, a.__len__())[::-1]:\n",
    "    c -= 1\n",
    "    if a[i][1] == a[i-1][1]:\n",
    "        \n",
    "    ans += a[i][0]"
   ]
  },
  {
   "cell_type": "code",
   "execution_count": 18,
   "metadata": {},
   "outputs": [
    {
     "name": "stdout",
     "output_type": "stream",
     "text": [
      "[(2, 8), (3, 4), [2, 3], (2, 1), [4, 1]]\n"
     ]
    }
   ],
   "source": [
    "    aq = [[2,3],[4,1],(2,8),(2,1),(3,4)]\n",
    "    bq = sorted(aq,key=lambda x: (-x[1] , x[0]))\n",
    "    print (bq)"
   ]
  },
  {
   "cell_type": "code",
   "execution_count": 31,
   "metadata": {},
   "outputs": [
    {
     "name": "stdout",
     "output_type": "stream",
     "text": [
      "2\n",
      "djijao\n",
      "dadjai\n"
     ]
    }
   ],
   "source": [
    "n = int(input())\n",
    "a = []\n",
    "for _ in range(n):\n",
    "\ta.append(list(map(str, input().rstrip().split())))"
   ]
  },
  {
   "cell_type": "code",
   "execution_count": 56,
   "metadata": {},
   "outputs": [
    {
     "name": "stdout",
     "output_type": "stream",
     "text": [
      "2 \n",
      "abc\n",
      "aba\n",
      "1\n",
      "Cassidy\n",
      "1\n",
      "Cassidy\n"
     ]
    }
   ],
   "source": [
    "def count_each_char_1(string):\n",
    "    res = {}\n",
    "    for i in string:\n",
    "        if i not in res:\n",
    "            res[i] = 1\n",
    "        else:\n",
    "            res[i] += 1\n",
    "    return res\n",
    "n = int(input())\n",
    "a = []\n",
    "for _ in range(n):\n",
    "\ta.append(list(map(str, input().rstrip().split())))\n",
    "for i in range(len(a)):\n",
    "    res = {}\n",
    "    flag = 0\n",
    "    res = count_each_char_1(a[i])\n",
    "    for key,value in res.items():\n",
    "        if(value%2==1):\n",
    "            flag += 1\n",
    "    print(flag)\n",
    "    if(flag%2):\n",
    "        print('Cassidy')\n",
    "    else:\n",
    "        print('Eleanore')"
   ]
  },
  {
   "cell_type": "code",
   "execution_count": 55,
   "metadata": {},
   "outputs": [
    {
     "name": "stdout",
     "output_type": "stream",
     "text": [
      "3\n",
      "1\n",
      "1\n",
      "1\n",
      "2\n",
      "1\n",
      "1\n"
     ]
    }
   ],
   "source": [
    "def count_each_char_1(string):\n",
    "    res = {}\n",
    "    for i in string:\n",
    "        if i not in res:\n",
    "            res[i] = 1\n",
    "        else:\n",
    "            res[i] += 1\n",
    "    return res\n",
    " \n",
    "for key,value in count_each_char_1('aenabsascd').items():\n",
    "    print(value)\n"
   ]
  },
  {
   "cell_type": "code",
   "execution_count": 49,
   "metadata": {},
   "outputs": [
    {
     "name": "stdout",
     "output_type": "stream",
     "text": [
      "6\n"
     ]
    }
   ],
   "source": [
    "flag1 = 0\n",
    "for key,value in count_each_char_1('aenabsascd').items():\n",
    "    if(value%2==1):\n",
    "            flag1 += 1\n",
    "print(flag1)"
   ]
  },
  {
   "cell_type": "code",
   "execution_count": 2,
   "metadata": {},
   "outputs": [
    {
     "name": "stdout",
     "output_type": "stream",
     "text": [
      "1 2 3 6\n"
     ]
    },
    {
     "data": {
      "text/plain": [
       "[1, 2, 3, 6]"
      ]
     },
     "execution_count": 2,
     "metadata": {},
     "output_type": "execute_result"
    }
   ],
   "source": [
    "a = list(map(int, input().rstrip().split()))\n",
    "a"
   ]
  },
  {
   "cell_type": "code",
   "execution_count": 17,
   "metadata": {},
   "outputs": [
    {
     "name": "stdout",
     "output_type": "stream",
     "text": [
      " 1 2 6 3\n",
      "[6, 2, 1, 3]\n"
     ]
    }
   ],
   "source": [
    "import random\n",
    "a = list(map(int, input().rstrip().split()))\n",
    "for i in range(len(a)):\n",
    "    index = random.randint(-1,len(a)-1)\n",
    "    tmp = a[index]\n",
    "    a[index] = a[i]\n",
    "    a[i] = tmp\n",
    "print(a)"
   ]
  },
  {
   "cell_type": "code",
   "execution_count": 13,
   "metadata": {},
   "outputs": [
    {
     "data": {
      "text/plain": [
       "[1, 6, 3, 2]"
      ]
     },
     "execution_count": 13,
     "metadata": {},
     "output_type": "execute_result"
    }
   ],
   "source": [
    "a"
   ]
  },
  {
   "cell_type": "code",
   "execution_count": null,
   "metadata": {},
   "outputs": [],
   "source": []
  }
 ],
 "metadata": {
  "kernelspec": {
   "display_name": "Python 3",
   "language": "python",
   "name": "python3"
  },
  "language_info": {
   "codemirror_mode": {
    "name": "ipython",
    "version": 3
   },
   "file_extension": ".py",
   "mimetype": "text/x-python",
   "name": "python",
   "nbconvert_exporter": "python",
   "pygments_lexer": "ipython3",
   "version": "3.6.5"
  }
 },
 "nbformat": 4,
 "nbformat_minor": 2
}
