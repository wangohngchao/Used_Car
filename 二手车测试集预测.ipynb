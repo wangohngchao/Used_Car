{
 "cells": [
  {
   "cell_type": "code",
   "execution_count": 1,
   "metadata": {},
   "outputs": [
    {
     "name": "stderr",
     "output_type": "stream",
     "text": [
      "C:\\Anaconda\\lib\\site-packages\\sklearn\\ensemble\\weight_boosting.py:29: DeprecationWarning: numpy.core.umath_tests is an internal NumPy module and should not be imported. It will be removed in a future NumPy release.\n",
      "  from numpy.core.umath_tests import inner1d\n"
     ]
    }
   ],
   "source": [
    "import numpy as np\n",
    "import pandas as pd\n",
    "import warnings\n",
    "import matplotlib\n",
    "import matplotlib.pyplot as plt\n",
    "import seaborn as sns\n",
    "from scipy.special import jn\n",
    "from IPython.display import display, clear_output\n",
    "import time\n",
    "from tqdm import tqdm\n",
    "\n",
    "warnings.filterwarnings('ignore')\n",
    "%matplotlib inline\n",
    "## 模型预测的\n",
    "from sklearn import linear_model\n",
    "from sklearn import preprocessing\n",
    "from sklearn.svm import SVR\n",
    "from sklearn.ensemble import RandomForestRegressor,GradientBoostingRegressor\n",
    "\n",
    "## 数据降维处理的\n",
    "from sklearn.decomposition import PCA,FastICA,FactorAnalysis,SparsePCA\n",
    "## 特征聚类的\n",
    "from sklearn.cluster import KMeans\n",
    "\n",
    "import lightgbm as lgb\n",
    "import xgboost as xgb\n",
    "\n",
    "## 参数搜索和评价的\n",
    "from sklearn.model_selection import GridSearchCV,cross_val_score,StratifiedKFold,train_test_split\n",
    "from sklearn.metrics import mean_squared_error, mean_absolute_error\n",
    "## 可视化\n",
    "from IPython.core.interactiveshell import InteractiveShell\n",
    "InteractiveShell.ast_node_interactivity = \"all\"\n",
    "\n",
    "pd.set_option('display.max_columns', 100)"
   ]
  },
  {
   "cell_type": "code",
   "execution_count": 2,
   "metadata": {},
   "outputs": [
    {
     "name": "stdout",
     "output_type": "stream",
     "text": [
      "Train data shape: (150000, 31)\n",
      "TestA data shape: (50000, 30)\n"
     ]
    }
   ],
   "source": [
    "Train_data = pd.read_csv('data/used_car_train_20200313.csv', sep=' ')\n",
    "TestA_data = pd.read_csv('data/used_car_testA_20200313.csv', sep=' ')\n",
    "\n",
    "## 输出数据的大小信息\n",
    "print('Train data shape:',Train_data.shape)\n",
    "print('TestA data shape:',TestA_data.shape)"
   ]
  },
  {
   "cell_type": "code",
   "execution_count": 118,
   "metadata": {},
   "outputs": [
    {
     "data": {
      "text/plain": [
       "Index(['SaleID', 'name', 'regDate', 'model', 'brand', 'bodyType', 'fuelType',\n",
       "       'gearbox', 'power', 'kilometer', 'notRepairedDamage', 'regionCode',\n",
       "       'seller', 'offerType', 'creatDate', 'price', 'v_0', 'v_1', 'v_2', 'v_3',\n",
       "       'v_4', 'v_5', 'v_6', 'v_7', 'v_8', 'v_9', 'v_10', 'v_11', 'v_12',\n",
       "       'v_13', 'v_14'],\n",
       "      dtype='object')"
      ]
     },
     "execution_count": 118,
     "metadata": {},
     "output_type": "execute_result"
    }
   ],
   "source": [
    "Train_data.columns"
   ]
  },
  {
   "cell_type": "code",
   "execution_count": 4,
   "metadata": {},
   "outputs": [
    {
     "data": {
      "text/html": [
       "<div>\n",
       "<style scoped>\n",
       "    .dataframe tbody tr th:only-of-type {\n",
       "        vertical-align: middle;\n",
       "    }\n",
       "\n",
       "    .dataframe tbody tr th {\n",
       "        vertical-align: top;\n",
       "    }\n",
       "\n",
       "    .dataframe thead th {\n",
       "        text-align: right;\n",
       "    }\n",
       "</style>\n",
       "<table border=\"1\" class=\"dataframe\">\n",
       "  <thead>\n",
       "    <tr style=\"text-align: right;\">\n",
       "      <th></th>\n",
       "      <th>power_bin</th>\n",
       "      <th>power</th>\n",
       "    </tr>\n",
       "  </thead>\n",
       "  <tbody>\n",
       "    <tr>\n",
       "      <th>0</th>\n",
       "      <td>5.0</td>\n",
       "      <td>60</td>\n",
       "    </tr>\n",
       "    <tr>\n",
       "      <th>1</th>\n",
       "      <td>NaN</td>\n",
       "      <td>0</td>\n",
       "    </tr>\n",
       "    <tr>\n",
       "      <th>2</th>\n",
       "      <td>16.0</td>\n",
       "      <td>163</td>\n",
       "    </tr>\n",
       "    <tr>\n",
       "      <th>3</th>\n",
       "      <td>19.0</td>\n",
       "      <td>193</td>\n",
       "    </tr>\n",
       "    <tr>\n",
       "      <th>4</th>\n",
       "      <td>6.0</td>\n",
       "      <td>68</td>\n",
       "    </tr>\n",
       "  </tbody>\n",
       "</table>\n",
       "</div>"
      ],
      "text/plain": [
       "   power_bin  power\n",
       "0        5.0     60\n",
       "1        NaN      0\n",
       "2       16.0    163\n",
       "3       19.0    193\n",
       "4        6.0     68"
      ]
     },
     "execution_count": 4,
     "metadata": {},
     "output_type": "execute_result"
    }
   ],
   "source": [
    "Train_data['power'] = Train_data['power'].map(lambda x: x if(x<600) else 600)\n",
    "bin = [i*10 for i in range(61)]\n",
    "Train_data['power_bin'] = pd.cut(Train_data['power'], bin, labels=False)\n",
    "Train_data[['power_bin', 'power']].head()"
   ]
  },
  {
   "cell_type": "code",
   "execution_count": 5,
   "metadata": {},
   "outputs": [
    {
     "data": {
      "text/html": [
       "<div>\n",
       "<style scoped>\n",
       "    .dataframe tbody tr th:only-of-type {\n",
       "        vertical-align: middle;\n",
       "    }\n",
       "\n",
       "    .dataframe tbody tr th {\n",
       "        vertical-align: top;\n",
       "    }\n",
       "\n",
       "    .dataframe thead th {\n",
       "        text-align: right;\n",
       "    }\n",
       "</style>\n",
       "<table border=\"1\" class=\"dataframe\">\n",
       "  <thead>\n",
       "    <tr style=\"text-align: right;\">\n",
       "      <th></th>\n",
       "      <th>power_bin</th>\n",
       "      <th>power</th>\n",
       "    </tr>\n",
       "  </thead>\n",
       "  <tbody>\n",
       "    <tr>\n",
       "      <th>0</th>\n",
       "      <td>31.0</td>\n",
       "      <td>313</td>\n",
       "    </tr>\n",
       "    <tr>\n",
       "      <th>1</th>\n",
       "      <td>7.0</td>\n",
       "      <td>75</td>\n",
       "    </tr>\n",
       "    <tr>\n",
       "      <th>2</th>\n",
       "      <td>10.0</td>\n",
       "      <td>109</td>\n",
       "    </tr>\n",
       "    <tr>\n",
       "      <th>3</th>\n",
       "      <td>15.0</td>\n",
       "      <td>160</td>\n",
       "    </tr>\n",
       "    <tr>\n",
       "      <th>4</th>\n",
       "      <td>7.0</td>\n",
       "      <td>75</td>\n",
       "    </tr>\n",
       "  </tbody>\n",
       "</table>\n",
       "</div>"
      ],
      "text/plain": [
       "   power_bin  power\n",
       "0       31.0    313\n",
       "1        7.0     75\n",
       "2       10.0    109\n",
       "3       15.0    160\n",
       "4        7.0     75"
      ]
     },
     "execution_count": 5,
     "metadata": {},
     "output_type": "execute_result"
    }
   ],
   "source": [
    "TestA_data['power'] = TestA_data['power'].map(lambda x: x if(x<600) else 600)\n",
    "bin = [i*10 for i in range(61)]\n",
    "TestA_data['power_bin'] = pd.cut(TestA_data['power'], bin, labels=False)\n",
    "TestA_data[['power_bin', 'power']].head()"
   ]
  },
  {
   "cell_type": "code",
   "execution_count": 6,
   "metadata": {},
   "outputs": [],
   "source": [
    "Train_data['model'].fillna(0,inplace=True)##众数填充只有一个"
   ]
  },
  {
   "cell_type": "code",
   "execution_count": 7,
   "metadata": {},
   "outputs": [],
   "source": [
    "TestA_data['model'].fillna(0,inplace=True)"
   ]
  },
  {
   "cell_type": "code",
   "execution_count": 8,
   "metadata": {},
   "outputs": [],
   "source": [
    "##根据生产日期和注册日期，合并整理得到 使用年限\n",
    "Train_data['used_time_day'] = (pd.to_datetime(Train_data['creatDate'], format='%Y%m%d', errors='coerce') - \n",
    "                            pd.to_datetime(Train_data['regDate'], format='%Y%m%d', errors='coerce')).dt.days\n",
    "Train_data['used_time_month'] = round(Train_data['used_time_day'] / 30)\n",
    "Train_data['used_time_year'] = round(Train_data['used_time_day'] / 365)"
   ]
  },
  {
   "cell_type": "code",
   "execution_count": 9,
   "metadata": {},
   "outputs": [],
   "source": [
    "TestA_data['used_time_day'] = (pd.to_datetime(TestA_data['creatDate'], format='%Y%m%d', errors='coerce') - \n",
    "                            pd.to_datetime(TestA_data['regDate'], format='%Y%m%d', errors='coerce')).dt.days\n",
    "TestA_data['used_time_month'] = round(TestA_data['used_time_day'] / 30)\n",
    "TestA_data['used_time_year'] = round(TestA_data['used_time_day'] / 365)"
   ]
  },
  {
   "cell_type": "code",
   "execution_count": 10,
   "metadata": {},
   "outputs": [],
   "source": [
    "Train_data['notRepairedDamage'].replace('-', np.nan , inplace=True)"
   ]
  },
  {
   "cell_type": "code",
   "execution_count": 11,
   "metadata": {},
   "outputs": [],
   "source": [
    "TestA_data['notRepairedDamage'].replace('-', np.nan , inplace=True)"
   ]
  },
  {
   "cell_type": "code",
   "execution_count": 59,
   "metadata": {},
   "outputs": [
    {
     "data": {
      "text/plain": [
       "<seaborn.axisgrid.PairGrid at 0x1ff4ab9fa58>"
      ]
     },
     "execution_count": 59,
     "metadata": {},
     "output_type": "execute_result"
    },
    {
     "data": {
      "image/png": "[encoded data removed]",
      "text/plain": [
       "<Figure size 288x288 with 6 Axes>"
      ]
     },
     "metadata": {},
     "output_type": "display_data"
    }
   ],
   "source": [
    "\n",
    "sns.set()\n",
    "columns = ['brand', 'price']\n",
    "sns.pairplot(Train_data[columns],size = 2 ,kind ='scatter',diag_kind='kde')\n",
    "plt.show()"
   ]
  },
  {
   "cell_type": "code",
   "execution_count": 60,
   "metadata": {},
   "outputs": [
    {
     "data": {
      "text/plain": [
       "KMeans(algorithm='auto', copy_x=True, init='k-means++', max_iter=300,\n",
       "    n_clusters=3, n_init=10, n_jobs=1, precompute_distances='auto',\n",
       "    random_state=None, tol=0.0001, verbose=0)"
      ]
     },
     "execution_count": 60,
     "metadata": {},
     "output_type": "execute_result"
    }
   ],
   "source": [
    "estimator = KMeans(n_clusters=3)#构造聚类器\n",
    "estimator.fit(Train_data[columns])\n",
    "p_ture = estimator.predict(Train_data[columns])\n",
    "Train_data['brand_Kmeans'] = p_ture"
   ]
  },
  {
   "cell_type": "code",
   "execution_count": null,
   "metadata": {},
   "outputs": [],
   "source": []
  },
  {
   "cell_type": "code",
   "execution_count": 61,
   "metadata": {},
   "outputs": [
    {
     "data": {
      "text/plain": [
       "<seaborn.axisgrid.PairGrid at 0x1ff4bfd7898>"
      ]
     },
     "execution_count": 61,
     "metadata": {},
     "output_type": "execute_result"
    },
    {
     "data": {
      "image/png": "[encoded data removed]",
      "text/plain": [
       "<Figure size 288x288 with 6 Axes>"
      ]
     },
     "metadata": {},
     "output_type": "display_data"
    }
   ],
   "source": [
    "sns.set()\n",
    "columns = ['model', 'price']\n",
    "sns.pairplot(Train_data[columns],size = 2 ,kind ='scatter',diag_kind='kde')\n",
    "plt.show()"
   ]
  },
  {
   "cell_type": "code",
   "execution_count": 62,
   "metadata": {},
   "outputs": [
    {
     "data": {
      "text/plain": [
       "KMeans(algorithm='auto', copy_x=True, init='k-means++', max_iter=300,\n",
       "    n_clusters=2, n_init=10, n_jobs=1, precompute_distances='auto',\n",
       "    random_state=None, tol=0.0001, verbose=0)"
      ]
     },
     "execution_count": 62,
     "metadata": {},
     "output_type": "execute_result"
    }
   ],
   "source": [
    "columns = ['model', 'price']\n",
    "estimator = KMeans(n_clusters=2)#构造聚类器\n",
    "estimator.fit(Train_data[columns])\n",
    "p_ture = estimator.predict(Train_data[columns])\n",
    "Train_data['model_Kmeans'] = p_ture"
   ]
  },
  {
   "cell_type": "code",
   "execution_count": null,
   "metadata": {},
   "outputs": [],
   "source": [
    "estimator = KMeans(n_clusters=2)#构造聚类器\n",
    "estimator.fit(Train_data[columns])\n",
    "p_ture = estimator.predict(Train_data[columns])\n",
    "Train_data['model_Kmeans'] = p_ture"
   ]
  },
  {
   "cell_type": "code",
   "execution_count": 17,
   "metadata": {},
   "outputs": [],
   "source": [
    "Train_data['gearbox'].fillna(0,inplace=True)"
   ]
  },
  {
   "cell_type": "code",
   "execution_count": 18,
   "metadata": {},
   "outputs": [],
   "source": [
    "Train_data['power_bin'].fillna(10.0,inplace=True)"
   ]
  },
  {
   "cell_type": "code",
   "execution_count": 19,
   "metadata": {},
   "outputs": [],
   "source": [
    "Train_data['used_time_day'].fillna(4771,inplace=True)"
   ]
  },
  {
   "cell_type": "code",
   "execution_count": 63,
   "metadata": {},
   "outputs": [
    {
     "data": {
      "text/plain": [
       "KMeans(algorithm='auto', copy_x=True, init='k-means++', max_iter=300,\n",
       "    n_clusters=2, n_init=10, n_jobs=1, precompute_distances='auto',\n",
       "    random_state=None, tol=0.0001, verbose=0)"
      ]
     },
     "execution_count": 63,
     "metadata": {},
     "output_type": "execute_result"
    }
   ],
   "source": [
    "columns = ['v_0','v_12']\n",
    "estimator = KMeans(n_clusters=2)#构造聚类器\n",
    "estimator.fit(Train_data[columns])\n",
    "p_ture = estimator.predict(Train_data[columns])\n",
    "Train_data['v0_v12'] = p_ture"
   ]
  },
  {
   "cell_type": "code",
   "execution_count": 64,
   "metadata": {},
   "outputs": [
    {
     "data": {
      "text/plain": [
       "KMeans(algorithm='auto', copy_x=True, init='k-means++', max_iter=300,\n",
       "    n_clusters=2, n_init=10, n_jobs=1, precompute_distances='auto',\n",
       "    random_state=None, tol=0.0001, verbose=0)"
      ]
     },
     "execution_count": 64,
     "metadata": {},
     "output_type": "execute_result"
    }
   ],
   "source": [
    "columns = ['v_2','v_14']\n",
    "estimator = KMeans(n_clusters=2)#构造聚类器\n",
    "estimator.fit(Train_data[columns])\n",
    "p_ture = estimator.predict(Train_data[columns])\n",
    "Train_data['v2_v14'] = p_ture"
   ]
  },
  {
   "cell_type": "code",
   "execution_count": 12,
   "metadata": {},
   "outputs": [
    {
     "name": "stdout",
     "output_type": "stream",
     "text": [
      "<class 'pandas.core.frame.DataFrame'>\n",
      "RangeIndex: 150000 entries, 0 to 149999\n",
      "Data columns (total 35 columns):\n",
      "SaleID               150000 non-null int64\n",
      "name                 150000 non-null int64\n",
      "regDate              150000 non-null int64\n",
      "model                150000 non-null float64\n",
      "brand                150000 non-null int64\n",
      "bodyType             145494 non-null float64\n",
      "fuelType             141320 non-null float64\n",
      "gearbox              144019 non-null float64\n",
      "power                150000 non-null int64\n",
      "kilometer            150000 non-null float64\n",
      "notRepairedDamage    125676 non-null object\n",
      "regionCode           150000 non-null int64\n",
      "seller               150000 non-null int64\n",
      "offerType            150000 non-null int64\n",
      "creatDate            150000 non-null int64\n",
      "price                150000 non-null int64\n",
      "v_0                  150000 non-null float64\n",
      "v_1                  150000 non-null float64\n",
      "v_2                  150000 non-null float64\n",
      "v_3                  150000 non-null float64\n",
      "v_4                  150000 non-null float64\n",
      "v_5                  150000 non-null float64\n",
      "v_6                  150000 non-null float64\n",
      "v_7                  150000 non-null float64\n",
      "v_8                  150000 non-null float64\n",
      "v_9                  150000 non-null float64\n",
      "v_10                 150000 non-null float64\n",
      "v_11                 150000 non-null float64\n",
      "v_12                 150000 non-null float64\n",
      "v_13                 150000 non-null float64\n",
      "v_14                 150000 non-null float64\n",
      "power_bin            137171 non-null float64\n",
      "used_time_day        138653 non-null float64\n",
      "used_time_month      138653 non-null float64\n",
      "used_time_year       138653 non-null float64\n",
      "dtypes: float64(24), int64(10), object(1)\n",
      "memory usage: 40.1+ MB\n"
     ]
    }
   ],
   "source": [
    "Train_data.info()"
   ]
  },
  {
   "cell_type": "code",
   "execution_count": 13,
   "metadata": {},
   "outputs": [
    {
     "data": {
      "text/plain": [
       "Index(['SaleID', 'name', 'regDate', 'model', 'brand', 'bodyType', 'fuelType',\n",
       "       'gearbox', 'power', 'kilometer', 'notRepairedDamage', 'regionCode',\n",
       "       'seller', 'offerType', 'creatDate', 'price', 'v_0', 'v_1', 'v_2', 'v_3',\n",
       "       'v_4', 'v_5', 'v_6', 'v_7', 'v_8', 'v_9', 'v_10', 'v_11', 'v_12',\n",
       "       'v_13', 'v_14', 'power_bin', 'used_time_day', 'used_time_month',\n",
       "       'used_time_year'],\n",
       "      dtype='object')"
      ]
     },
     "execution_count": 13,
     "metadata": {},
     "output_type": "execute_result"
    }
   ],
   "source": [
    "Train_data.columns"
   ]
  },
  {
   "cell_type": "code",
   "execution_count": 14,
   "metadata": {},
   "outputs": [
    {
     "data": {
      "text/plain": [
       "Index(['SaleID', 'name', 'regDate', 'model', 'brand', 'bodyType', 'fuelType',\n",
       "       'gearbox', 'power', 'kilometer', 'notRepairedDamage', 'regionCode',\n",
       "       'seller', 'offerType', 'creatDate', 'v_0', 'v_1', 'v_2', 'v_3', 'v_4',\n",
       "       'v_5', 'v_6', 'v_7', 'v_8', 'v_9', 'v_10', 'v_11', 'v_12', 'v_13',\n",
       "       'v_14', 'power_bin', 'used_time_day', 'used_time_month',\n",
       "       'used_time_year'],\n",
       "      dtype='object')"
      ]
     },
     "execution_count": 14,
     "metadata": {},
     "output_type": "execute_result"
    }
   ],
   "source": [
    "TestA_data.columns"
   ]
  },
  {
   "cell_type": "code",
   "execution_count": 15,
   "metadata": {},
   "outputs": [],
   "source": [
    "numerical_cols = Train_data.select_dtypes(exclude = 'object').columns\n",
    "categorical_cols = Train_data.select_dtypes(include = 'object').columns\n",
    "feature_cols = [col for col in numerical_cols if col not in ['SaleID','used_time_month','used_time_year','name','regDate','creatDate','price','model','brand','regionCode','seller']]\n",
    "feature_cols = [col for col in feature_cols if 'Type' not in col]"
   ]
  },
  {
   "cell_type": "code",
   "execution_count": 16,
   "metadata": {},
   "outputs": [
    {
     "name": "stdout",
     "output_type": "stream",
     "text": [
      "<class 'pandas.core.frame.DataFrame'>\n",
      "RangeIndex: 150000 entries, 0 to 149999\n",
      "Data columns (total 20 columns):\n",
      "gearbox          144019 non-null float64\n",
      "power            150000 non-null int64\n",
      "kilometer        150000 non-null float64\n",
      "v_0              150000 non-null float64\n",
      "v_1              150000 non-null float64\n",
      "v_2              150000 non-null float64\n",
      "v_3              150000 non-null float64\n",
      "v_4              150000 non-null float64\n",
      "v_5              150000 non-null float64\n",
      "v_6              150000 non-null float64\n",
      "v_7              150000 non-null float64\n",
      "v_8              150000 non-null float64\n",
      "v_9              150000 non-null float64\n",
      "v_10             150000 non-null float64\n",
      "v_11             150000 non-null float64\n",
      "v_12             150000 non-null float64\n",
      "v_13             150000 non-null float64\n",
      "v_14             150000 non-null float64\n",
      "power_bin        137171 non-null float64\n",
      "used_time_day    138653 non-null float64\n",
      "dtypes: float64(19), int64(1)\n",
      "memory usage: 22.9 MB\n"
     ]
    }
   ],
   "source": [
    "Train_data[feature_cols].info()"
   ]
  },
  {
   "cell_type": "code",
   "execution_count": 17,
   "metadata": {},
   "outputs": [
    {
     "name": "stdout",
     "output_type": "stream",
     "text": [
      "X train shape: (150000, 20)\n"
     ]
    }
   ],
   "source": [
    "X_data = Train_data[feature_cols]\n",
    "Y_data = Train_data['price']\n",
    "#X_test = TestA_data[feature_cols]\n",
    "print('X train shape:',X_data.shape)\n",
    "#print('X test shape:',X_data.shape)"
   ]
  },
  {
   "cell_type": "code",
   "execution_count": 22,
   "metadata": {},
   "outputs": [],
   "source": [
    "X_data.replace(to_replace = '-', value = np.nan, inplace = True)\n",
    "X_data.fillna(X_data.median(),inplace= True)"
   ]
  },
  {
   "cell_type": "code",
   "execution_count": 18,
   "metadata": {},
   "outputs": [],
   "source": [
    "from sklearn.preprocessing import MinMaxScaler\n",
    "from sklearn.model_selection import train_test_split\n",
    "from tensorflow import keras\n",
    "from sklearn.metrics import mean_absolute_error"
   ]
  },
  {
   "cell_type": "code",
   "execution_count": 24,
   "metadata": {},
   "outputs": [],
   "source": [
    "x_train,x_test,y_train,y_test = train_test_split(X_data,Y_data,test_size = 0.2)"
   ]
  },
  {
   "cell_type": "code",
   "execution_count": 23,
   "metadata": {},
   "outputs": [
    {
     "data": {
      "text/plain": [
       "MinMaxScaler(copy=True, feature_range=(0, 1))"
      ]
     },
     "execution_count": 23,
     "metadata": {},
     "output_type": "execute_result"
    }
   ],
   "source": [
    "min_max_scaler = MinMaxScaler()\n",
    "min_max_scaler.fit(X_data.values)\n",
    "x = min_max_scaler.transform(X_data.values)\n",
    "#x_ = min_max_scaler.transform(data_test[tags].values)"
   ]
  },
  {
   "cell_type": "code",
   "execution_count": 29,
   "metadata": {},
   "outputs": [],
   "source": [
    "model = keras.Sequential([\n",
    "        keras.layers.Dense(250,activation='relu',input_shape=[20]), \n",
    "        keras.layers.Dense(250,activation='relu'), \n",
    "        keras.layers.Dense(250,activation='relu'), \n",
    "        keras.layers.Dense(250,activation='relu'), \n",
    "        keras.layers.Dense(1)])\n",
    "model.compile(loss='mean_absolute_error',\n",
    "                optimizer='Adam')"
   ]
  },
  {
   "cell_type": "code",
   "execution_count": 30,
   "metadata": {},
   "outputs": [
    {
     "name": "stdout",
     "output_type": "stream",
     "text": [
      "Epoch 1/100\n",
      "120000/120000 [==============================] - 2s 18us/sample - loss: 4660.4469\n",
      "Epoch 2/100\n",
      "120000/120000 [==============================] - 2s 15us/sample - loss: 2199.3053\n",
      "Epoch 3/100\n",
      "120000/120000 [==============================] - 2s 15us/sample - loss: 1967.9153\n",
      "Epoch 4/100\n",
      "120000/120000 [==============================] - 2s 16us/sample - loss: 1830.9605s - loss: 183\n",
      "Epoch 5/100\n",
      "120000/120000 [==============================] - 2s 16us/sample - loss: 1709.3583\n",
      "Epoch 6/100\n",
      "120000/120000 [==============================] - 2s 16us/sample - loss: 1615.0990\n",
      "Epoch 7/100\n",
      "120000/120000 [==============================] - 2s 16us/sample - loss: 1515.6577\n",
      "Epoch 8/100\n",
      "120000/120000 [==============================] - 2s 16us/sample - loss: 1421.8176\n",
      "Epoch 9/100\n",
      "120000/120000 [==============================] - 2s 16us/sample - loss: 1398.9152\n",
      "Epoch 10/100\n",
      "120000/120000 [==============================] - 2s 16us/sample - loss: 1351.3146\n",
      "Epoch 11/100\n",
      "120000/120000 [==============================] - 2s 16us/sample - loss: 1322.3566\n",
      "Epoch 12/100\n",
      "120000/120000 [==============================] - 2s 16us/sample - loss: 1288.4884\n",
      "Epoch 13/100\n",
      "120000/120000 [==============================] - 2s 16us/sample - loss: 1284.0077\n",
      "Epoch 14/100\n",
      "120000/120000 [==============================] - 2s 16us/sample - loss: 1251.3187\n",
      "Epoch 15/100\n",
      "120000/120000 [==============================] - 2s 16us/sample - loss: 1172.2184\n",
      "Epoch 16/100\n",
      "120000/120000 [==============================] - 2s 16us/sample - loss: 1150.2678\n",
      "Epoch 17/100\n",
      "120000/120000 [==============================] - 2s 16us/sample - loss: 1106.5347\n",
      "Epoch 18/100\n",
      "120000/120000 [==============================] - 2s 16us/sample - loss: 1072.4086\n",
      "Epoch 19/100\n",
      "120000/120000 [==============================] - 2s 16us/sample - loss: 1072.1988\n",
      "Epoch 20/100\n",
      "120000/120000 [==============================] - 2s 18us/sample - loss: 1046.9503\n",
      "Epoch 21/100\n",
      "120000/120000 [==============================] - 2s 16us/sample - loss: 1115.2323\n",
      "Epoch 22/100\n",
      "120000/120000 [==============================] - 2s 16us/sample - loss: 1053.4208\n",
      "Epoch 23/100\n",
      "120000/120000 [==============================] - 2s 16us/sample - loss: 1052.8348s - loss: 1069.11 -\n",
      "Epoch 24/100\n",
      "120000/120000 [==============================] - 2s 16us/sample - loss: 1008.7026\n",
      "Epoch 25/100\n",
      "120000/120000 [==============================] - 2s 16us/sample - loss: 994.2937\n",
      "Epoch 26/100\n",
      "120000/120000 [==============================] - 2s 16us/sample - loss: 1068.5252\n",
      "Epoch 27/100\n",
      "120000/120000 [==============================] - 2s 16us/sample - loss: 966.7508\n",
      "Epoch 28/100\n",
      "120000/120000 [==============================] - 2s 16us/sample - loss: 998.6809\n",
      "Epoch 29/100\n",
      "120000/120000 [==============================] - 2s 16us/sample - loss: 944.3962\n",
      "Epoch 30/100\n",
      "120000/120000 [==============================] - 2s 16us/sample - loss: 991.1951\n",
      "Epoch 31/100\n",
      "120000/120000 [==============================] - 2s 16us/sample - loss: 947.4160\n",
      "Epoch 32/100\n",
      "120000/120000 [==============================] - 2s 16us/sample - loss: 906.9359\n",
      "Epoch 33/100\n",
      "120000/120000 [==============================] - 2s 16us/sample - loss: 898.3062\n",
      "Epoch 34/100\n",
      "120000/120000 [==============================] - 2s 16us/sample - loss: 1015.6936\n",
      "Epoch 35/100\n",
      "120000/120000 [==============================] - 2s 16us/sample - loss: 935.3946\n",
      "Epoch 36/100\n",
      "120000/120000 [==============================] - 2s 16us/sample - loss: 899.8382\n",
      "Epoch 37/100\n",
      "120000/120000 [==============================] - 2s 16us/sample - loss: 868.0187\n",
      "Epoch 38/100\n",
      "120000/120000 [==============================] - 3s 21us/sample - loss: 860.8771\n",
      "Epoch 39/100\n",
      "120000/120000 [==============================] - 2s 17us/sample - loss: 938.6726\n",
      "Epoch 40/100\n",
      "120000/120000 [==============================] - 2s 17us/sample - loss: 897.6298\n",
      "Epoch 41/100\n",
      "120000/120000 [==============================] - 2s 16us/sample - loss: 884.6755\n",
      "Epoch 42/100\n",
      "120000/120000 [==============================] - 2s 16us/sample - loss: 896.0303\n",
      "Epoch 43/100\n",
      "120000/120000 [==============================] - 2s 17us/sample - loss: 848.1038\n",
      "Epoch 44/100\n",
      "120000/120000 [==============================] - 2s 16us/sample - loss: 871.4982\n",
      "Epoch 45/100\n",
      "120000/120000 [==============================] - 2s 16us/sample - loss: 870.7666\n",
      "Epoch 46/100\n",
      "120000/120000 [==============================] - 2s 16us/sample - loss: 830.7342\n",
      "Epoch 47/100\n",
      "120000/120000 [==============================] - 2s 16us/sample - loss: 1000.2169\n",
      "Epoch 48/100\n",
      "120000/120000 [==============================] - 2s 16us/sample - loss: 830.2342\n",
      "Epoch 49/100\n",
      "120000/120000 [==============================] - 2s 16us/sample - loss: 807.3423\n",
      "Epoch 50/100\n",
      "120000/120000 [==============================] - 2s 16us/sample - loss: 885.7625\n",
      "Epoch 51/100\n",
      "120000/120000 [==============================] - 2s 17us/sample - loss: 887.8242\n",
      "Epoch 52/100\n",
      "120000/120000 [==============================] - 2s 17us/sample - loss: 842.6246\n",
      "Epoch 53/100\n",
      "120000/120000 [==============================] - 2s 17us/sample - loss: 839.1181\n",
      "Epoch 54/100\n",
      "120000/120000 [==============================] - 2s 16us/sample - loss: 832.4337\n",
      "Epoch 55/100\n",
      "120000/120000 [==============================] - 2s 17us/sample - loss: 861.1606\n",
      "Epoch 56/100\n",
      "120000/120000 [==============================] - 2s 16us/sample - loss: 827.3988\n",
      "Epoch 57/100\n",
      "120000/120000 [==============================] - 2s 16us/sample - loss: 833.1174\n",
      "Epoch 58/100\n",
      "120000/120000 [==============================] - 2s 16us/sample - loss: 827.0719\n",
      "Epoch 59/100\n",
      "120000/120000 [==============================] - 2s 16us/sample - loss: 802.1271\n",
      "Epoch 60/100\n",
      "120000/120000 [==============================] - 2s 16us/sample - loss: 807.9898\n",
      "Epoch 61/100\n",
      "120000/120000 [==============================] - 2s 17us/sample - loss: 945.8694\n",
      "Epoch 62/100\n",
      "120000/120000 [==============================] - 2s 17us/sample - loss: 787.6733\n",
      "Epoch 63/100\n",
      "120000/120000 [==============================] - 2s 16us/sample - loss: 812.4110\n",
      "Epoch 64/100\n",
      "120000/120000 [==============================] - 2s 17us/sample - loss: 820.3614\n",
      "Epoch 65/100\n",
      "120000/120000 [==============================] - 2s 17us/sample - loss: 803.5147\n",
      "Epoch 66/100\n",
      "120000/120000 [==============================] - 2s 18us/sample - loss: 777.7667\n",
      "Epoch 67/100\n",
      "120000/120000 [==============================] - 3s 27us/sample - loss: 779.1207\n",
      "Epoch 68/100\n",
      "120000/120000 [==============================] - 3s 21us/sample - loss: 776.9302\n",
      "Epoch 69/100\n",
      "120000/120000 [==============================] - 2s 18us/sample - loss: 775.6396\n",
      "Epoch 70/100\n",
      "120000/120000 [==============================] - 2s 19us/sample - loss: 765.4663\n",
      "Epoch 71/100\n",
      "120000/120000 [==============================] - 2s 17us/sample - loss: 804.6414\n",
      "Epoch 72/100\n",
      "120000/120000 [==============================] - 2s 17us/sample - loss: 759.2349\n",
      "Epoch 73/100\n",
      "120000/120000 [==============================] - 2s 17us/sample - loss: 903.3322\n",
      "Epoch 74/100\n",
      "120000/120000 [==============================] - 2s 18us/sample - loss: 846.9902\n",
      "Epoch 75/100\n",
      "120000/120000 [==============================] - 2s 17us/sample - loss: 754.5237\n",
      "Epoch 76/100\n",
      "120000/120000 [==============================] - 2s 17us/sample - loss: 758.5955\n",
      "Epoch 77/100\n",
      "120000/120000 [==============================] - 2s 17us/sample - loss: 764.8850\n",
      "Epoch 78/100\n",
      "120000/120000 [==============================] - 2s 17us/sample - loss: 846.6937\n",
      "Epoch 79/100\n",
      "120000/120000 [==============================] - 2s 17us/sample - loss: 718.7284\n",
      "Epoch 80/100\n",
      "120000/120000 [==============================] - 2s 16us/sample - loss: 735.2915\n",
      "Epoch 81/100\n",
      "120000/120000 [==============================] - 2s 17us/sample - loss: 768.4663\n",
      "Epoch 82/100\n",
      "120000/120000 [==============================] - 2s 16us/sample - loss: 759.3412\n",
      "Epoch 83/100\n",
      "120000/120000 [==============================] - 2s 16us/sample - loss: 735.1105\n",
      "Epoch 84/100\n",
      "120000/120000 [==============================] - 2s 17us/sample - loss: 770.4172\n",
      "Epoch 85/100\n",
      "120000/120000 [==============================] - 2s 17us/sample - loss: 801.5902\n",
      "Epoch 86/100\n",
      "120000/120000 [==============================] - 2s 17us/sample - loss: 819.5138\n",
      "Epoch 87/100\n"
     ]
    },
    {
     "name": "stdout",
     "output_type": "stream",
     "text": [
      "120000/120000 [==============================] - 2s 16us/sample - loss: 738.4554\n",
      "Epoch 88/100\n",
      "120000/120000 [==============================] - 2s 15us/sample - loss: 704.6360\n",
      "Epoch 89/100\n",
      "120000/120000 [==============================] - 2s 16us/sample - loss: 727.2690\n",
      "Epoch 90/100\n",
      "120000/120000 [==============================] - 2s 15us/sample - loss: 670.6910\n",
      "Epoch 91/100\n",
      "120000/120000 [==============================] - 2s 15us/sample - loss: 720.9465\n",
      "Epoch 92/100\n",
      "120000/120000 [==============================] - 2s 16us/sample - loss: 766.9703\n",
      "Epoch 93/100\n",
      "120000/120000 [==============================] - 2s 16us/sample - loss: 678.1547\n",
      "Epoch 94/100\n",
      "120000/120000 [==============================] - 2s 16us/sample - loss: 707.0748\n",
      "Epoch 95/100\n",
      "120000/120000 [==============================] - 2s 17us/sample - loss: 676.8951\n",
      "Epoch 96/100\n",
      "120000/120000 [==============================] - 2s 19us/sample - loss: 711.9258\n",
      "Epoch 97/100\n",
      "120000/120000 [==============================] - 2s 17us/sample - loss: 701.6474\n",
      "Epoch 98/100\n",
      "120000/120000 [==============================] - 2s 17us/sample - loss: 760.3660\n",
      "Epoch 99/100\n",
      "120000/120000 [==============================] - 2s 18us/sample - loss: 676.2881\n",
      "Epoch 100/100\n",
      "120000/120000 [==============================] - 2s 17us/sample - loss: 770.2090\n"
     ]
    },
    {
     "data": {
      "text/plain": [
       "<tensorflow.python.keras.callbacks.History at 0x21c73f1f400>"
      ]
     },
     "execution_count": 30,
     "metadata": {},
     "output_type": "execute_result"
    }
   ],
   "source": [
    "model.fit(x_train,y_train,batch_size = 2048,epochs=100)"
   ]
  },
  {
   "cell_type": "code",
   "execution_count": 11,
   "metadata": {},
   "outputs": [
    {
     "name": "stdout",
     "output_type": "stream",
     "text": [
      "<class 'pandas.core.frame.DataFrame'>\n",
      "RangeIndex: 150000 entries, 0 to 149999\n",
      "Data columns (total 22 columns):\n",
      "gearbox            144019 non-null float64\n",
      "power              150000 non-null int64\n",
      "kilometer          150000 non-null float64\n",
      "v_0                150000 non-null float64\n",
      "v_1                150000 non-null float64\n",
      "v_2                150000 non-null float64\n",
      "v_3                150000 non-null float64\n",
      "v_4                150000 non-null float64\n",
      "v_5                150000 non-null float64\n",
      "v_6                150000 non-null float64\n",
      "v_7                150000 non-null float64\n",
      "v_8                150000 non-null float64\n",
      "v_9                150000 non-null float64\n",
      "v_10               150000 non-null float64\n",
      "v_11               150000 non-null float64\n",
      "v_12               150000 non-null float64\n",
      "v_13               150000 non-null float64\n",
      "v_14               150000 non-null float64\n",
      "power_bin          137171 non-null float64\n",
      "used_time_day      138653 non-null float64\n",
      "used_time_month    138653 non-null float64\n",
      "used_time_year     138653 non-null float64\n",
      "dtypes: float64(21), int64(1)\n",
      "memory usage: 25.2 MB\n"
     ]
    }
   ],
   "source": [
    "X_data.info()"
   ]
  },
  {
   "cell_type": "code",
   "execution_count": 137,
   "metadata": {},
   "outputs": [
    {
     "name": "stdout",
     "output_type": "stream",
     "text": [
      "<class 'pandas.core.frame.DataFrame'>\n",
      "RangeIndex: 50000 entries, 0 to 49999\n",
      "Data columns (total 19 columns):\n",
      "gearbox          48090 non-null float64\n",
      "kilometer        50000 non-null float64\n",
      "v_0              50000 non-null float64\n",
      "v_1              50000 non-null float64\n",
      "v_2              50000 non-null float64\n",
      "v_3              50000 non-null float64\n",
      "v_4              50000 non-null float64\n",
      "v_5              50000 non-null float64\n",
      "v_6              50000 non-null float64\n",
      "v_7              50000 non-null float64\n",
      "v_8              50000 non-null float64\n",
      "v_9              50000 non-null float64\n",
      "v_10             50000 non-null float64\n",
      "v_11             50000 non-null float64\n",
      "v_12             50000 non-null float64\n",
      "v_13             50000 non-null float64\n",
      "v_14             50000 non-null float64\n",
      "power_bin        45805 non-null float64\n",
      "used_time_day    46246 non-null float64\n",
      "dtypes: float64(19)\n",
      "memory usage: 7.2 MB\n"
     ]
    }
   ],
   "source": [
    "X_test.info()"
   ]
  },
  {
   "cell_type": "code",
   "execution_count": 24,
   "metadata": {},
   "outputs": [
    {
     "ename": "ValueError",
     "evalue": "Supported target types are: ('binary', 'multiclass'). Got 'continuous' instead.",
     "output_type": "error",
     "traceback": [
      "\u001b[1;31m---------------------------------------------------------------------------\u001b[0m",
      "\u001b[1;31mValueError\u001b[0m                                Traceback (most recent call last)",
      "\u001b[1;32m<ipython-input-24-3008fd63771e>\u001b[0m in \u001b[0;36m<module>\u001b[1;34m()\u001b[0m\n\u001b[0;32m      6\u001b[0m \u001b[1;31m## 5折交叉验证方式\u001b[0m\u001b[1;33m\u001b[0m\u001b[1;33m\u001b[0m\u001b[0m\n\u001b[0;32m      7\u001b[0m \u001b[0msk\u001b[0m\u001b[1;33m=\u001b[0m\u001b[0mStratifiedKFold\u001b[0m\u001b[1;33m(\u001b[0m\u001b[0mn_splits\u001b[0m\u001b[1;33m=\u001b[0m\u001b[1;36m5\u001b[0m\u001b[1;33m,\u001b[0m\u001b[0mshuffle\u001b[0m\u001b[1;33m=\u001b[0m\u001b[1;32mTrue\u001b[0m\u001b[1;33m,\u001b[0m\u001b[0mrandom_state\u001b[0m\u001b[1;33m=\u001b[0m\u001b[1;36m0\u001b[0m\u001b[1;33m)\u001b[0m\u001b[1;33m\u001b[0m\u001b[0m\n\u001b[1;32m----> 8\u001b[1;33m \u001b[1;32mfor\u001b[0m \u001b[0mtrain_ind\u001b[0m\u001b[1;33m,\u001b[0m\u001b[0mval_ind\u001b[0m \u001b[1;32min\u001b[0m \u001b[0msk\u001b[0m\u001b[1;33m.\u001b[0m\u001b[0msplit\u001b[0m\u001b[1;33m(\u001b[0m\u001b[0mX_data\u001b[0m\u001b[1;33m,\u001b[0m\u001b[0mY_data\u001b[0m\u001b[1;33m)\u001b[0m\u001b[1;33m:\u001b[0m\u001b[1;33m\u001b[0m\u001b[0m\n\u001b[0m\u001b[0;32m      9\u001b[0m \u001b[1;33m\u001b[0m\u001b[0m\n\u001b[0;32m     10\u001b[0m     \u001b[0mtrain_x\u001b[0m\u001b[1;33m=\u001b[0m\u001b[0mX_data\u001b[0m\u001b[1;33m.\u001b[0m\u001b[0miloc\u001b[0m\u001b[1;33m[\u001b[0m\u001b[0mtrain_ind\u001b[0m\u001b[1;33m]\u001b[0m\u001b[1;33m.\u001b[0m\u001b[0mvalues\u001b[0m\u001b[1;33m\u001b[0m\u001b[0m\n",
      "\u001b[1;32mC:\\Anaconda\\lib\\site-packages\\sklearn\\model_selection\\_split.py\u001b[0m in \u001b[0;36msplit\u001b[1;34m(self, X, y, groups)\u001b[0m\n\u001b[0;32m    330\u001b[0m                                                              n_samples))\n\u001b[0;32m    331\u001b[0m \u001b[1;33m\u001b[0m\u001b[0m\n\u001b[1;32m--> 332\u001b[1;33m         \u001b[1;32mfor\u001b[0m \u001b[0mtrain\u001b[0m\u001b[1;33m,\u001b[0m \u001b[0mtest\u001b[0m \u001b[1;32min\u001b[0m \u001b[0msuper\u001b[0m\u001b[1;33m(\u001b[0m\u001b[0m_BaseKFold\u001b[0m\u001b[1;33m,\u001b[0m \u001b[0mself\u001b[0m\u001b[1;33m)\u001b[0m\u001b[1;33m.\u001b[0m\u001b[0msplit\u001b[0m\u001b[1;33m(\u001b[0m\u001b[0mX\u001b[0m\u001b[1;33m,\u001b[0m \u001b[0my\u001b[0m\u001b[1;33m,\u001b[0m \u001b[0mgroups\u001b[0m\u001b[1;33m)\u001b[0m\u001b[1;33m:\u001b[0m\u001b[1;33m\u001b[0m\u001b[0m\n\u001b[0m\u001b[0;32m    333\u001b[0m             \u001b[1;32myield\u001b[0m \u001b[0mtrain\u001b[0m\u001b[1;33m,\u001b[0m \u001b[0mtest\u001b[0m\u001b[1;33m\u001b[0m\u001b[0m\n\u001b[0;32m    334\u001b[0m \u001b[1;33m\u001b[0m\u001b[0m\n",
      "\u001b[1;32mC:\\Anaconda\\lib\\site-packages\\sklearn\\model_selection\\_split.py\u001b[0m in \u001b[0;36msplit\u001b[1;34m(self, X, y, groups)\u001b[0m\n\u001b[0;32m     93\u001b[0m         \u001b[0mX\u001b[0m\u001b[1;33m,\u001b[0m \u001b[0my\u001b[0m\u001b[1;33m,\u001b[0m \u001b[0mgroups\u001b[0m \u001b[1;33m=\u001b[0m \u001b[0mindexable\u001b[0m\u001b[1;33m(\u001b[0m\u001b[0mX\u001b[0m\u001b[1;33m,\u001b[0m \u001b[0my\u001b[0m\u001b[1;33m,\u001b[0m \u001b[0mgroups\u001b[0m\u001b[1;33m)\u001b[0m\u001b[1;33m\u001b[0m\u001b[0m\n\u001b[0;32m     94\u001b[0m         \u001b[0mindices\u001b[0m \u001b[1;33m=\u001b[0m \u001b[0mnp\u001b[0m\u001b[1;33m.\u001b[0m\u001b[0marange\u001b[0m\u001b[1;33m(\u001b[0m\u001b[0m_num_samples\u001b[0m\u001b[1;33m(\u001b[0m\u001b[0mX\u001b[0m\u001b[1;33m)\u001b[0m\u001b[1;33m)\u001b[0m\u001b[1;33m\u001b[0m\u001b[0m\n\u001b[1;32m---> 95\u001b[1;33m         \u001b[1;32mfor\u001b[0m \u001b[0mtest_index\u001b[0m \u001b[1;32min\u001b[0m \u001b[0mself\u001b[0m\u001b[1;33m.\u001b[0m\u001b[0m_iter_test_masks\u001b[0m\u001b[1;33m(\u001b[0m\u001b[0mX\u001b[0m\u001b[1;33m,\u001b[0m \u001b[0my\u001b[0m\u001b[1;33m,\u001b[0m \u001b[0mgroups\u001b[0m\u001b[1;33m)\u001b[0m\u001b[1;33m:\u001b[0m\u001b[1;33m\u001b[0m\u001b[0m\n\u001b[0m\u001b[0;32m     96\u001b[0m             \u001b[0mtrain_index\u001b[0m \u001b[1;33m=\u001b[0m \u001b[0mindices\u001b[0m\u001b[1;33m[\u001b[0m\u001b[0mnp\u001b[0m\u001b[1;33m.\u001b[0m\u001b[0mlogical_not\u001b[0m\u001b[1;33m(\u001b[0m\u001b[0mtest_index\u001b[0m\u001b[1;33m)\u001b[0m\u001b[1;33m]\u001b[0m\u001b[1;33m\u001b[0m\u001b[0m\n\u001b[0;32m     97\u001b[0m             \u001b[0mtest_index\u001b[0m \u001b[1;33m=\u001b[0m \u001b[0mindices\u001b[0m\u001b[1;33m[\u001b[0m\u001b[0mtest_index\u001b[0m\u001b[1;33m]\u001b[0m\u001b[1;33m\u001b[0m\u001b[0m\n",
      "\u001b[1;32mC:\\Anaconda\\lib\\site-packages\\sklearn\\model_selection\\_split.py\u001b[0m in \u001b[0;36m_iter_test_masks\u001b[1;34m(self, X, y, groups)\u001b[0m\n\u001b[0;32m    632\u001b[0m \u001b[1;33m\u001b[0m\u001b[0m\n\u001b[0;32m    633\u001b[0m     \u001b[1;32mdef\u001b[0m \u001b[0m_iter_test_masks\u001b[0m\u001b[1;33m(\u001b[0m\u001b[0mself\u001b[0m\u001b[1;33m,\u001b[0m \u001b[0mX\u001b[0m\u001b[1;33m,\u001b[0m \u001b[0my\u001b[0m\u001b[1;33m=\u001b[0m\u001b[1;32mNone\u001b[0m\u001b[1;33m,\u001b[0m \u001b[0mgroups\u001b[0m\u001b[1;33m=\u001b[0m\u001b[1;32mNone\u001b[0m\u001b[1;33m)\u001b[0m\u001b[1;33m:\u001b[0m\u001b[1;33m\u001b[0m\u001b[0m\n\u001b[1;32m--> 634\u001b[1;33m         \u001b[0mtest_folds\u001b[0m \u001b[1;33m=\u001b[0m \u001b[0mself\u001b[0m\u001b[1;33m.\u001b[0m\u001b[0m_make_test_folds\u001b[0m\u001b[1;33m(\u001b[0m\u001b[0mX\u001b[0m\u001b[1;33m,\u001b[0m \u001b[0my\u001b[0m\u001b[1;33m)\u001b[0m\u001b[1;33m\u001b[0m\u001b[0m\n\u001b[0m\u001b[0;32m    635\u001b[0m         \u001b[1;32mfor\u001b[0m \u001b[0mi\u001b[0m \u001b[1;32min\u001b[0m \u001b[0mrange\u001b[0m\u001b[1;33m(\u001b[0m\u001b[0mself\u001b[0m\u001b[1;33m.\u001b[0m\u001b[0mn_splits\u001b[0m\u001b[1;33m)\u001b[0m\u001b[1;33m:\u001b[0m\u001b[1;33m\u001b[0m\u001b[0m\n\u001b[0;32m    636\u001b[0m             \u001b[1;32myield\u001b[0m \u001b[0mtest_folds\u001b[0m \u001b[1;33m==\u001b[0m \u001b[0mi\u001b[0m\u001b[1;33m\u001b[0m\u001b[0m\n",
      "\u001b[1;32mC:\\Anaconda\\lib\\site-packages\\sklearn\\model_selection\\_split.py\u001b[0m in \u001b[0;36m_make_test_folds\u001b[1;34m(self, X, y)\u001b[0m\n\u001b[0;32m    587\u001b[0m             raise ValueError(\n\u001b[0;32m    588\u001b[0m                 'Supported target types are: {}. Got {!r} instead.'.format(\n\u001b[1;32m--> 589\u001b[1;33m                     allowed_target_types, type_of_target_y))\n\u001b[0m\u001b[0;32m    590\u001b[0m \u001b[1;33m\u001b[0m\u001b[0m\n\u001b[0;32m    591\u001b[0m         \u001b[0my\u001b[0m \u001b[1;33m=\u001b[0m \u001b[0mcolumn_or_1d\u001b[0m\u001b[1;33m(\u001b[0m\u001b[0my\u001b[0m\u001b[1;33m)\u001b[0m\u001b[1;33m\u001b[0m\u001b[0m\n",
      "\u001b[1;31mValueError\u001b[0m: Supported target types are: ('binary', 'multiclass'). Got 'continuous' instead."
     ]
    }
   ],
   "source": [
    "xgr = xgb.XGBRegressor(n_estimators=120, learning_rate=0.1, gamma=0, subsample=0.8,\\\n",
    "        colsample_bytree=0.9, max_depth=7) #,objective ='reg:squarederror'\n",
    "\n",
    "scores_train = []\n",
    "scores = []\n",
    "\n",
    "## 5折交叉验证方式\n",
    "sk=StratifiedKFold(n_splits=5,shuffle=True,random_state=0)\n",
    "for train_ind,val_ind in sk.split(X_data,Y_data):\n",
    "    \n",
    "    train_x=X_data.iloc[train_ind].values\n",
    "    train_y=Y_data.iloc[train_ind]\n",
    "    val_x=X_data.iloc[val_ind].values\n",
    "    val_y=Y_data.iloc[val_ind]\n",
    "    \n",
    "    xgr.fit(train_x,train_y)\n",
    "    pred_train_xgb=xgr.predict(train_x)\n",
    "    pred_xgb=xgr.predict(val_x)\n",
    "    #pred_x = xgr.predict(X_test.values)\n",
    "    \n",
    "    score_train = mean_absolute_error(train_y,pred_train_xgb)\n",
    "    scores_train.append(score_train)\n",
    "    score = mean_absolute_error(val_y,pred_xgb)\n",
    "    scores.append(score)\n",
    "print('Train mae:',np.mean(score_train))\n",
    "print('Val mae',np.mean(scores))"
   ]
  },
  {
   "cell_type": "code",
   "execution_count": 26,
   "metadata": {},
   "outputs": [
    {
     "name": "stdout",
     "output_type": "stream",
     "text": [
      "Train lgb...\n",
      "MAE of val with lgb: 624.8829036679689\n"
     ]
    }
   ],
   "source": [
    "x_train,x_val,y_train,y_val = train_test_split(X_data,Y_data,test_size=0.3)\n",
    "def build_model_lgb(x_train,y_train):\n",
    "    estimator = lgb.LGBMRegressor(num_leaves=127,n_estimators = 150)\n",
    "    param_grid = {\n",
    "        'learning_rate': [0.01, 0.05, 0.1, 0.2],\n",
    "    }\n",
    "    gbm = GridSearchCV(estimator, param_grid)\n",
    "    gbm.fit(x_train, y_train)\n",
    "    return gbm\n",
    "print('Train lgb...')\n",
    "model_lgb = build_model_lgb(x_train,y_train)\n",
    "val_lgb = model_lgb.predict(x_val)\n",
    "MAE_lgb = mean_absolute_error(y_val,val_lgb)\n",
    "print('MAE of val with lgb:',MAE_lgb)"
   ]
  },
  {
   "cell_type": "code",
   "execution_count": 141,
   "metadata": {},
   "outputs": [],
   "source": [
    "sub = pd.DataFrame()\n",
    "sub['SaleID'] = TestA_data.SaleID\n",
    "sub['price'] = pred_x\n",
    "sub.to_csv('./sub_used_car.csv',index=False)"
   ]
  },
  {
   "cell_type": "code",
   "execution_count": null,
   "metadata": {},
   "outputs": [],
   "source": []
  }
 ],
 "metadata": {
  "kernelspec": {
   "display_name": "Python 3",
   "language": "python",
   "name": "python3"
  },
  "language_info": {
   "codemirror_mode": {
    "name": "ipython",
    "version": 3
   },
   "file_extension": ".py",
   "mimetype": "text/x-python",
   "name": "python",
   "nbconvert_exporter": "python",
   "pygments_lexer": "ipython3",
   "version": "3.6.5"
  }
 },
 "nbformat": 4,
 "nbformat_minor": 2
}
