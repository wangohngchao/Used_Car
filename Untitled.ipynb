{
 "cells": [
  {
   "cell_type": "code",
   "execution_count": 1,
   "metadata": {},
   "outputs": [
    {
     "name": "stderr",
     "output_type": "stream",
     "text": [
      "C:\\Anaconda\\lib\\site-packages\\sklearn\\ensemble\\weight_boosting.py:29: DeprecationWarning: numpy.core.umath_tests is an internal NumPy module and should not be imported. It will be removed in a future NumPy release.\n",
      "  from numpy.core.umath_tests import inner1d\n"
     ]
    }
   ],
   "source": [
    "import numpy as np\n",
    "import pandas as pd\n",
    "import warnings\n",
    "import matplotlib\n",
    "import matplotlib.pyplot as plt\n",
    "import seaborn as sns\n",
    "from scipy.special import jn\n",
    "from IPython.display import display, clear_output\n",
    "import time\n",
    "from tqdm import tqdm\n",
    "\n",
    "warnings.filterwarnings('ignore')\n",
    "%matplotlib inline\n",
    "## 模型预测的\n",
    "from sklearn import linear_model\n",
    "from sklearn import preprocessing\n",
    "from sklearn.svm import SVR\n",
    "from sklearn.ensemble import RandomForestRegressor,GradientBoostingRegressor\n",
    "\n",
    "## 数据降维处理的\n",
    "from sklearn.decomposition import PCA,FastICA,FactorAnalysis,SparsePCA\n",
    "## 特征聚类的\n",
    "from sklearn.cluster import KMeans\n",
    "\n",
    "import lightgbm as lgb\n",
    "import xgboost as xgb\n",
    "\n",
    "## 参数搜索和评价的\n",
    "from sklearn.model_selection import GridSearchCV,cross_val_score,StratifiedKFold,train_test_split\n",
    "from sklearn.metrics import mean_squared_error, mean_absolute_error\n",
    "## 可视化\n",
    "from IPython.core.interactiveshell import InteractiveShell\n",
    "InteractiveShell.ast_node_interactivity = \"all\"\n",
    "\n",
    "pd.set_option('display.max_columns', 100)"
   ]
  },
  {
   "cell_type": "code",
   "execution_count": 3,
   "metadata": {},
   "outputs": [
    {
     "ename": "NameError",
     "evalue": "name 'pd' is not defined",
     "output_type": "error",
     "traceback": [
      "\u001b[1;31m---------------------------------------------------------------------------\u001b[0m",
      "\u001b[1;31mNameError\u001b[0m                                 Traceback (most recent call last)",
      "\u001b[1;32m<ipython-input-3-68585c2355fe>\u001b[0m in \u001b[0;36m<module>\u001b[1;34m()\u001b[0m\n\u001b[1;32m----> 1\u001b[1;33m \u001b[0mTrain_data\u001b[0m \u001b[1;33m=\u001b[0m \u001b[0mpd\u001b[0m\u001b[1;33m.\u001b[0m\u001b[0mread_csv\u001b[0m\u001b[1;33m(\u001b[0m\u001b[1;34m'feature.csv'\u001b[0m\u001b[1;33m,\u001b[0m \u001b[0msep\u001b[0m\u001b[1;33m=\u001b[0m\u001b[1;34m','\u001b[0m\u001b[1;33m)\u001b[0m\u001b[1;33m\u001b[0m\u001b[0m\n\u001b[0m",
      "\u001b[1;31mNameError\u001b[0m: name 'pd' is not defined"
     ]
    }
   ],
   "source": [
    "Train_data = pd.read_csv('feature.csv', sep=',')\n"
   ]
  },
  {
   "cell_type": "code",
   "execution_count": 2,
   "metadata": {},
   "outputs": [
    {
     "ename": "NameError",
     "evalue": "name 'Train_data' is not defined",
     "output_type": "error",
     "traceback": [
      "\u001b[1;31m---------------------------------------------------------------------------\u001b[0m",
      "\u001b[1;31mNameError\u001b[0m                                 Traceback (most recent call last)",
      "\u001b[1;32m<ipython-input-2-88d7ed6df798>\u001b[0m in \u001b[0;36m<module>\u001b[1;34m()\u001b[0m\n\u001b[1;32m----> 1\u001b[1;33m \u001b[0mdata_train\u001b[0m \u001b[1;33m=\u001b[0m \u001b[0mTrain_data\u001b[0m\u001b[1;33m[\u001b[0m\u001b[1;33m:\u001b[0m\u001b[1;36m150000\u001b[0m\u001b[1;33m]\u001b[0m\u001b[1;33m\u001b[0m\u001b[0m\n\u001b[0m",
      "\u001b[1;31mNameError\u001b[0m: name 'Train_data' is not defined"
     ]
    }
   ],
   "source": [
    "Train_data = Train_data[:150000] "
   ]
  },
  {
   "cell_type": "code",
   "execution_count": 1,
   "metadata": {},
   "outputs": [
    {
     "ename": "NameError",
     "evalue": "name 'Train_data' is not defined",
     "output_type": "error",
     "traceback": [
      "\u001b[1;31m---------------------------------------------------------------------------\u001b[0m",
      "\u001b[1;31mNameError\u001b[0m                                 Traceback (most recent call last)",
      "\u001b[1;32m<ipython-input-1-f2be5033ea58>\u001b[0m in \u001b[0;36m<module>\u001b[1;34m()\u001b[0m\n\u001b[1;32m----> 1\u001b[1;33m \u001b[0mdata_test\u001b[0m \u001b[1;33m=\u001b[0m \u001b[0mTrain_data\u001b[0m\u001b[1;33m[\u001b[0m\u001b[1;36m150000\u001b[0m\u001b[1;33m:\u001b[0m\u001b[1;33m]\u001b[0m\u001b[1;33m\u001b[0m\u001b[0m\n\u001b[0m",
      "\u001b[1;31mNameError\u001b[0m: name 'Train_data' is not defined"
     ]
    }
   ],
   "source": [
    "Train_data.info()"
   ]
  },
  {
   "cell_type": "code",
   "execution_count": 10,
   "metadata": {},
   "outputs": [
    {
     "data": {
      "text/plain": [
       "0          1850.000000\n",
       "1          3600.000000\n",
       "2          6222.000000\n",
       "3          2400.000000\n",
       "4          5200.000000\n",
       "5          8000.000000\n",
       "6          3500.000000\n",
       "7          1000.000000\n",
       "8          2850.000000\n",
       "9           650.000000\n",
       "10         3100.000000\n",
       "11         5450.000000\n",
       "12         1600.000000\n",
       "13         3100.000000\n",
       "14            4.439788\n",
       "15         3200.000000\n",
       "16        10500.000000\n",
       "17         3700.000000\n",
       "18          790.000000\n",
       "19         1450.000000\n",
       "20          990.000000\n",
       "21            2.944303\n",
       "22          350.000000\n",
       "23          599.000000\n",
       "24         9250.000000\n",
       "25         3650.000000\n",
       "26         2800.000000\n",
       "27         2399.000000\n",
       "28         4900.000000\n",
       "29         2999.000000\n",
       "              ...     \n",
       "149970       41.183905\n",
       "149971     3400.000000\n",
       "149972       15.360270\n",
       "149973       45.108172\n",
       "149974     4500.000000\n",
       "149975     3990.000000\n",
       "149976     1200.000000\n",
       "149977      330.000000\n",
       "149978     3350.000000\n",
       "149979     5000.000000\n",
       "149980     4350.000000\n",
       "149981     9000.000000\n",
       "149982     2000.000000\n",
       "149983    12000.000000\n",
       "149984     6700.000000\n",
       "149985     4200.000000\n",
       "149986     2800.000000\n",
       "149987     3000.000000\n",
       "149988     7500.000000\n",
       "149989     1150.000000\n",
       "149990      450.000000\n",
       "149991    24950.000000\n",
       "149992      950.000000\n",
       "149993     4399.000000\n",
       "149994    14780.000000\n",
       "149995     5900.000000\n",
       "149996     9500.000000\n",
       "149997     7500.000000\n",
       "149998     4999.000000\n",
       "149999     4700.000000\n",
       "Name: price, Length: 150000, dtype: float64"
      ]
     },
     "execution_count": 10,
     "metadata": {},
     "output_type": "execute_result"
    }
   ],
   "source": [
    "Train_data['price']"
   ]
  },
  {
   "cell_type": "code",
   "execution_count": 5,
   "metadata": {},
   "outputs": [
    {
     "data": {
      "text/plain": [
       "['bodyType',\n",
       " 'brand',\n",
       " 'creatDate',\n",
       " 'fuelType',\n",
       " 'gearbox',\n",
       " 'is_test',\n",
       " 'kilometer',\n",
       " 'model',\n",
       " 'notRepairedDamage',\n",
       " 'power',\n",
       " 'province',\n",
       " 'regDate',\n",
       " 'regMonth',\n",
       " 'regYear',\n",
       " 'soldMonth',\n",
       " 'soldYear',\n",
       " 'v_0',\n",
       " 'v_1',\n",
       " 'v_10',\n",
       " 'v_11',\n",
       " 'v_12',\n",
       " 'v_13',\n",
       " 'v_14',\n",
       " 'v_2',\n",
       " 'v_3',\n",
       " 'v_4',\n",
       " 'v_5',\n",
       " 'v_6',\n",
       " 'v_7',\n",
       " 'v_8',\n",
       " 'v_9',\n",
       " 'is_outlier',\n",
       " 'kilometer_capped',\n",
       " 'brand_bodyType_amount',\n",
       " 'brand_bodyType_price_max',\n",
       " 'brand_bodyType_price_median',\n",
       " 'brand_bodyType_price_min',\n",
       " 'brand_bodyType_price_sum',\n",
       " 'brand_bodyType_price_std',\n",
       " 'brand_bodyType_price_average',\n",
       " 'brand_fuelType_amount',\n",
       " 'brand_fuelType_price_max',\n",
       " 'brand_fuelType_price_median',\n",
       " 'brand_fuelType_price_min',\n",
       " 'brand_fuelType_price_sum',\n",
       " 'brand_fuelType_price_std',\n",
       " 'brand_fuelType_price_average',\n",
       " 'gearBox_amount',\n",
       " 'gearBox_price_max',\n",
       " 'gearBox_price_median',\n",
       " 'gearBox_price_min',\n",
       " 'gearBox_price_sum',\n",
       " 'gearBox_price_std',\n",
       " 'gearBox_price_average',\n",
       " 'kilo_bins',\n",
       " 'brand_kilo_amount',\n",
       " 'brand_kilo_price_max',\n",
       " 'brand_kilo_price_median',\n",
       " 'brand_kilo_price_min',\n",
       " 'brand_kilo_price_sum',\n",
       " 'brand_kilo_price_std',\n",
       " 'brand_kilo_price_average',\n",
       " 'repaired_amount',\n",
       " 'repaired_price_max',\n",
       " 'repaired_price_median',\n",
       " 'repaired_price_min',\n",
       " 'repaired_price_sum',\n",
       " 'repaired_price_std',\n",
       " 'repaired_price_average',\n",
       " 'power_bins',\n",
       " 'power_amount',\n",
       " 'power_price_max',\n",
       " 'power_price_median',\n",
       " 'power_price_min',\n",
       " 'rpower_price_sum',\n",
       " 'power_price_std',\n",
       " 'power_price_average',\n",
       " 'province_amount',\n",
       " 'province_price_max',\n",
       " 'province_price_median',\n",
       " 'province_price_min',\n",
       " 'province_price_sum',\n",
       " 'province_price_std',\n",
       " 'province_price_average',\n",
       " 'diffmonth',\n",
       " 'diffyear',\n",
       " 'year_amount',\n",
       " 'year_price_max',\n",
       " 'year_price_median',\n",
       " 'year_price_min',\n",
       " 'year_price_sum',\n",
       " 'year_price_std',\n",
       " 'year_price_average']"
      ]
     },
     "execution_count": 5,
     "metadata": {},
     "output_type": "execute_result"
    }
   ],
   "source": [
    "numerical_cols = Train_data.select_dtypes(exclude = 'object').columns\n",
    "categorical_cols = Train_data.select_dtypes(include = 'object').columns\n",
    "feature_cols = [col for col in numerical_cols if col not in ['price']]\n",
    "feature_cols = [col for col in feature_cols if 'offerType' not in col]\n",
    "feature_cols\n"
   ]
  },
  {
   "cell_type": "code",
   "execution_count": 19,
   "metadata": {},
   "outputs": [
    {
     "data": {
      "text/plain": [
       "93"
      ]
     },
     "execution_count": 19,
     "metadata": {},
     "output_type": "execute_result"
    }
   ],
   "source": [
    "len(feature_cols)"
   ]
  },
  {
   "cell_type": "code",
   "execution_count": 7,
   "metadata": {},
   "outputs": [
    {
     "name": "stdout",
     "output_type": "stream",
     "text": [
      "X train shape: (150000, 93)\n"
     ]
    }
   ],
   "source": [
    "X_data = Train_data[feature_cols]\n",
    "Y_data = Train_data['price']\n",
    "print('X train shape:',X_data.shape)"
   ]
  },
  {
   "cell_type": "code",
   "execution_count": 31,
   "metadata": {},
   "outputs": [],
   "source": [
    "X_data.fillna(-1,inplace=True)\n",
    "Y_data.fillna(-1,inplace=True)"
   ]
  },
  {
   "cell_type": "code",
   "execution_count": 23,
   "metadata": {},
   "outputs": [
    {
     "data": {
      "text/plain": [
       "0          1850\n",
       "1          3600\n",
       "2          6222\n",
       "3          2400\n",
       "4          5200\n",
       "5          8000\n",
       "6          3500\n",
       "7          1000\n",
       "8          2850\n",
       "9           650\n",
       "10         3100\n",
       "11         5450\n",
       "12         1600\n",
       "13         3100\n",
       "14            4\n",
       "15         3200\n",
       "16        10500\n",
       "17         3700\n",
       "18          790\n",
       "19         1450\n",
       "20          990\n",
       "21            2\n",
       "22          350\n",
       "23          599\n",
       "24         9250\n",
       "25         3650\n",
       "26         2800\n",
       "27         2399\n",
       "28         4900\n",
       "29         2999\n",
       "          ...  \n",
       "149970       41\n",
       "149971     3400\n",
       "149972       15\n",
       "149973       45\n",
       "149974     4500\n",
       "149975     3990\n",
       "149976     1200\n",
       "149977      330\n",
       "149978     3350\n",
       "149979     5000\n",
       "149980     4350\n",
       "149981     9000\n",
       "149982     2000\n",
       "149983    12000\n",
       "149984     6700\n",
       "149985     4200\n",
       "149986     2800\n",
       "149987     3000\n",
       "149988     7500\n",
       "149989     1150\n",
       "149990      450\n",
       "149991    24950\n",
       "149992      950\n",
       "149993     4399\n",
       "149994    14780\n",
       "149995     5900\n",
       "149996     9500\n",
       "149997     7500\n",
       "149998     4999\n",
       "149999     4700\n",
       "Name: price, Length: 150000, dtype: int32"
      ]
     },
     "execution_count": 23,
     "metadata": {},
     "output_type": "execute_result"
    }
   ],
   "source": [
    "Train_data['price'].astype(int)"
   ]
  },
  {
   "cell_type": "code",
   "execution_count": 22,
   "metadata": {},
   "outputs": [
    {
     "data": {
      "text/plain": [
       "XGBRegressor(base_score=0.5, booster=None, colsample_bylevel=1,\n",
       "       colsample_bynode=1, colsample_bytree=0.9, gamma=0, gpu_id=-1,\n",
       "       importance_type='gain', interaction_constraints=None,\n",
       "       learning_rate=0.1, max_delta_step=0, max_depth=7,\n",
       "       min_child_weight=1, missing=nan, monotone_constraints=None,\n",
       "       n_estimators=120, n_jobs=0, num_parallel_tree=1,\n",
       "       objective='reg:squarederror', random_state=0, reg_alpha=0,\n",
       "       reg_lambda=1, scale_pos_weight=1, subsample=0.8, tree_method=None,\n",
       "       validate_parameters=False, verbosity=None)"
      ]
     },
     "execution_count": 22,
     "metadata": {},
     "output_type": "execute_result"
    },
    {
     "data": {
      "text/plain": [
       "XGBRegressor(base_score=0.5, booster=None, colsample_bylevel=1,\n",
       "       colsample_bynode=1, colsample_bytree=0.9, gamma=0, gpu_id=-1,\n",
       "       importance_type='gain', interaction_constraints=None,\n",
       "       learning_rate=0.1, max_delta_step=0, max_depth=7,\n",
       "       min_child_weight=1, missing=nan, monotone_constraints=None,\n",
       "       n_estimators=120, n_jobs=0, num_parallel_tree=1,\n",
       "       objective='reg:squarederror', random_state=0, reg_alpha=0,\n",
       "       reg_lambda=1, scale_pos_weight=1, subsample=0.8, tree_method=None,\n",
       "       validate_parameters=False, verbosity=None)"
      ]
     },
     "execution_count": 22,
     "metadata": {},
     "output_type": "execute_result"
    },
    {
     "data": {
      "text/plain": [
       "XGBRegressor(base_score=0.5, booster=None, colsample_bylevel=1,\n",
       "       colsample_bynode=1, colsample_bytree=0.9, gamma=0, gpu_id=-1,\n",
       "       importance_type='gain', interaction_constraints=None,\n",
       "       learning_rate=0.1, max_delta_step=0, max_depth=7,\n",
       "       min_child_weight=1, missing=nan, monotone_constraints=None,\n",
       "       n_estimators=120, n_jobs=0, num_parallel_tree=1,\n",
       "       objective='reg:squarederror', random_state=0, reg_alpha=0,\n",
       "       reg_lambda=1, scale_pos_weight=1, subsample=0.8, tree_method=None,\n",
       "       validate_parameters=False, verbosity=None)"
      ]
     },
     "execution_count": 22,
     "metadata": {},
     "output_type": "execute_result"
    },
    {
     "data": {
      "text/plain": [
       "XGBRegressor(base_score=0.5, booster=None, colsample_bylevel=1,\n",
       "       colsample_bynode=1, colsample_bytree=0.9, gamma=0, gpu_id=-1,\n",
       "       importance_type='gain', interaction_constraints=None,\n",
       "       learning_rate=0.1, max_delta_step=0, max_depth=7,\n",
       "       min_child_weight=1, missing=nan, monotone_constraints=None,\n",
       "       n_estimators=120, n_jobs=0, num_parallel_tree=1,\n",
       "       objective='reg:squarederror', random_state=0, reg_alpha=0,\n",
       "       reg_lambda=1, scale_pos_weight=1, subsample=0.8, tree_method=None,\n",
       "       validate_parameters=False, verbosity=None)"
      ]
     },
     "execution_count": 22,
     "metadata": {},
     "output_type": "execute_result"
    },
    {
     "data": {
      "text/plain": [
       "XGBRegressor(base_score=0.5, booster=None, colsample_bylevel=1,\n",
       "       colsample_bynode=1, colsample_bytree=0.9, gamma=0, gpu_id=-1,\n",
       "       importance_type='gain', interaction_constraints=None,\n",
       "       learning_rate=0.1, max_delta_step=0, max_depth=7,\n",
       "       min_child_weight=1, missing=nan, monotone_constraints=None,\n",
       "       n_estimators=120, n_jobs=0, num_parallel_tree=1,\n",
       "       objective='reg:squarederror', random_state=0, reg_alpha=0,\n",
       "       reg_lambda=1, scale_pos_weight=1, subsample=0.8, tree_method=None,\n",
       "       validate_parameters=False, verbosity=None)"
      ]
     },
     "execution_count": 22,
     "metadata": {},
     "output_type": "execute_result"
    },
    {
     "name": "stdout",
     "output_type": "stream",
     "text": [
      "Train mae: 486.1780245822642\n",
      "Val mae 620.9292999999095\n"
     ]
    }
   ],
   "source": [
    "xgr = xgb.XGBRegressor(n_estimators=120, learning_rate=0.1, gamma=0, subsample=0.8,\\\n",
    "        colsample_bytree=0.9, max_depth=7) #,objective ='reg:squarederror'\n",
    "\n",
    "scores_train = []\n",
    "scores = []\n",
    "\n",
    "## 5折交叉验证方式\n",
    "sk=StratifiedKFold(n_splits=5,shuffle=True,random_state=0)\n",
    "for train_ind,val_ind in sk.split(X_data,Y_data.astype(str)):\n",
    "    \n",
    "    train_x=X_data.iloc[train_ind].values\n",
    "    train_y=Y_data.iloc[train_ind]\n",
    "    val_x=X_data.iloc[val_ind].values\n",
    "    val_y=Y_data.iloc[val_ind]\n",
    "    \n",
    "    xgr.fit(train_x,train_y)\n",
    "    pred_train_xgb=xgr.predict(train_x)\n",
    "    pred_xgb=xgr.predict(val_x)\n",
    "    \n",
    "    score_train = mean_absolute_error(train_y,pred_train_xgb)\n",
    "    scores_train.append(score_train)\n",
    "    score = mean_absolute_error(val_y,pred_xgb)\n",
    "    scores.append(score)\n",
    "\n",
    "print('Train mae:',np.mean(score_train))\n",
    "print('Val mae',np.mean(scores))"
   ]
  },
  {
   "cell_type": "code",
   "execution_count": 16,
   "metadata": {},
   "outputs": [
    {
     "data": {
      "text/plain": [
       "array([3.1245369e-04, 7.0540007e-04, 2.9628447e-04, 1.1848584e-03,\n",
       "       9.2786225e-04, 0.0000000e+00, 6.6174744e-03, 1.5970046e-03,\n",
       "       3.3555683e-03, 9.3423668e-03, 4.6384012e-04, 4.0901676e-03,\n",
       "       4.3498920e-04, 1.1032154e-02, 2.6482859e-04, 0.0000000e+00,\n",
       "       2.4491596e-01, 2.8207421e-03, 1.3680260e-02, 1.6596176e-03,\n",
       "       4.1279492e-01, 1.5800599e-03, 6.2848772e-03, 4.2271661e-03,\n",
       "       5.1216587e-02, 3.3650151e-03, 3.7111773e-03, 3.3131831e-03,\n",
       "       1.1454563e-03, 2.9712904e-03, 1.3835237e-02, 0.0000000e+00,\n",
       "       6.6800445e-04, 1.8972355e-03, 7.9485081e-04, 6.3182035e-04,\n",
       "       1.9487184e-03, 1.1704545e-03, 1.3342027e-03, 1.1174157e-03,\n",
       "       8.1224326e-04, 1.6087594e-03, 7.4240868e-04, 1.2362241e-03,\n",
       "       1.8970384e-03, 8.3592780e-02, 7.1564666e-04, 2.4968847e-03,\n",
       "       0.0000000e+00, 0.0000000e+00, 0.0000000e+00, 0.0000000e+00,\n",
       "       0.0000000e+00, 0.0000000e+00, 6.0924370e-04, 1.6855232e-03,\n",
       "       1.9079184e-03, 9.2879735e-04, 1.1909734e-03, 1.7130323e-03,\n",
       "       1.0691714e-02, 3.5312071e-03, 4.1614128e-03, 0.0000000e+00,\n",
       "       8.7463995e-03, 0.0000000e+00, 0.0000000e+00, 0.0000000e+00,\n",
       "       0.0000000e+00, 3.6021054e-03, 2.1173190e-03, 1.4627747e-03,\n",
       "       1.7155571e-03, 1.5424589e-03, 5.3572906e-03, 2.5750720e-04,\n",
       "       3.2327364e-03, 5.7419034e-04, 5.4210972e-04, 5.8940751e-04,\n",
       "       6.6338480e-04, 2.1790774e-03, 8.0677384e-04, 7.5916707e-04,\n",
       "       2.3470731e-03, 1.4816674e-03, 5.5973101e-03, 7.4840378e-04,\n",
       "       9.0227826e-03, 1.3268846e-03, 5.4618861e-03, 7.6589978e-04,\n",
       "       1.8686076e-03], dtype=float32)"
      ]
     },
     "execution_count": 16,
     "metadata": {},
     "output_type": "execute_result"
    }
   ],
   "source": [
    "xgr.feature_importances_"
   ]
  },
  {
   "cell_type": "code",
   "execution_count": 20,
   "metadata": {},
   "outputs": [],
   "source": [
    "X_data = X_data[X_data.columns[xgr.feature_importances_>0.001]]"
   ]
  },
  {
   "cell_type": "code",
   "execution_count": 21,
   "metadata": {},
   "outputs": [
    {
     "name": "stdout",
     "output_type": "stream",
     "text": [
      "<class 'pandas.core.frame.DataFrame'>\n",
      "RangeIndex: 150000 entries, 0 to 149999\n",
      "Data columns (total 55 columns):\n",
      "fuelType                        150000 non-null float64\n",
      "kilometer                       150000 non-null float64\n",
      "model                           150000 non-null float64\n",
      "notRepairedDamage               132442 non-null float64\n",
      "power                           148812 non-null float64\n",
      "regDate                         150000 non-null int64\n",
      "regYear                         150000 non-null int64\n",
      "v_0                             150000 non-null float64\n",
      "v_1                             150000 non-null float64\n",
      "v_10                            150000 non-null float64\n",
      "v_11                            150000 non-null float64\n",
      "v_12                            148531 non-null float64\n",
      "v_13                            146417 non-null float64\n",
      "v_14                            135884 non-null float64\n",
      "v_2                             150000 non-null float64\n",
      "v_3                             150000 non-null float64\n",
      "v_4                             150000 non-null float64\n",
      "v_5                             150000 non-null float64\n",
      "v_6                             150000 non-null float64\n",
      "v_7                             150000 non-null float64\n",
      "v_8                             150000 non-null float64\n",
      "v_9                             150000 non-null float64\n",
      "brand_bodyType_amount           150000 non-null float64\n",
      "brand_bodyType_price_min        149996 non-null float64\n",
      "brand_bodyType_price_sum        150000 non-null float64\n",
      "brand_bodyType_price_std        149983 non-null float64\n",
      "brand_bodyType_price_average    150000 non-null float64\n",
      "brand_fuelType_price_max        150000 non-null float64\n",
      "brand_fuelType_price_min        150000 non-null float64\n",
      "brand_fuelType_price_sum        150000 non-null float64\n",
      "brand_fuelType_price_std        149958 non-null float64\n",
      "gearBox_amount                  150000 non-null float64\n",
      "brand_kilo_amount               150000 non-null float64\n",
      "brand_kilo_price_max            149971 non-null float64\n",
      "brand_kilo_price_min            149971 non-null float64\n",
      "brand_kilo_price_sum            150000 non-null float64\n",
      "brand_kilo_price_std            149940 non-null float64\n",
      "brand_kilo_price_average        150000 non-null float64\n",
      "repaired_amount                 132442 non-null float64\n",
      "repaired_price_median           132442 non-null float64\n",
      "power_bins                      150000 non-null int64\n",
      "power_amount                    148812 non-null float64\n",
      "power_price_max                 148812 non-null float64\n",
      "power_price_median              148812 non-null float64\n",
      "power_price_min                 148812 non-null float64\n",
      "rpower_price_sum                148812 non-null float64\n",
      "power_price_average             148812 non-null float64\n",
      "province_price_sum              150000 non-null float64\n",
      "diffmonth                       150000 non-null int64\n",
      "diffyear                        150000 non-null int64\n",
      "year_amount                     150000 non-null float64\n",
      "year_price_median               150000 non-null float64\n",
      "year_price_min                  150000 non-null float64\n",
      "year_price_sum                  150000 non-null float64\n",
      "year_price_average              150000 non-null float64\n",
      "dtypes: float64(50), int64(5)\n",
      "memory usage: 62.9 MB\n"
     ]
    }
   ],
   "source": [
    "X_data.info()"
   ]
  },
  {
   "cell_type": "code",
   "execution_count": null,
   "metadata": {},
   "outputs": [],
   "source": []
  }
 ],
 "metadata": {
  "kernelspec": {
   "display_name": "Python 3",
   "language": "python",
   "name": "python3"
  },
  "language_info": {
   "codemirror_mode": {
    "name": "ipython",
    "version": 3
   },
   "file_extension": ".py",
   "mimetype": "text/x-python",
   "name": "python",
   "nbconvert_exporter": "python",
   "pygments_lexer": "ipython3",
   "version": "3.6.5"
  }
 },
 "nbformat": 4,
 "nbformat_minor": 2
}
