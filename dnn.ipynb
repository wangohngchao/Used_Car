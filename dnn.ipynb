{
 "cells": [
  {
   "cell_type": "code",
   "execution_count": 1,
   "metadata": {},
   "outputs": [
    {
     "name": "stderr",
     "output_type": "stream",
     "text": [
      "C:\\Users\\Numpy\\AppData\\Roaming\\Python\\Python36\\site-packages\\tensorflow\\python\\framework\\dtypes.py:526: FutureWarning: Passing (type, 1) or '1type' as a synonym of type is deprecated; in a future version of numpy, it will be understood as (type, (1,)) / '(1,)type'.\n",
      "  _np_qint8 = np.dtype([(\"qint8\", np.int8, 1)])\n",
      "C:\\Users\\Numpy\\AppData\\Roaming\\Python\\Python36\\site-packages\\tensorflow\\python\\framework\\dtypes.py:527: FutureWarning: Passing (type, 1) or '1type' as a synonym of type is deprecated; in a future version of numpy, it will be understood as (type, (1,)) / '(1,)type'.\n",
      "  _np_quint8 = np.dtype([(\"quint8\", np.uint8, 1)])\n",
      "C:\\Users\\Numpy\\AppData\\Roaming\\Python\\Python36\\site-packages\\tensorflow\\python\\framework\\dtypes.py:528: FutureWarning: Passing (type, 1) or '1type' as a synonym of type is deprecated; in a future version of numpy, it will be understood as (type, (1,)) / '(1,)type'.\n",
      "  _np_qint16 = np.dtype([(\"qint16\", np.int16, 1)])\n",
      "C:\\Users\\Numpy\\AppData\\Roaming\\Python\\Python36\\site-packages\\tensorflow\\python\\framework\\dtypes.py:529: FutureWarning: Passing (type, 1) or '1type' as a synonym of type is deprecated; in a future version of numpy, it will be understood as (type, (1,)) / '(1,)type'.\n",
      "  _np_quint16 = np.dtype([(\"quint16\", np.uint16, 1)])\n",
      "C:\\Users\\Numpy\\AppData\\Roaming\\Python\\Python36\\site-packages\\tensorflow\\python\\framework\\dtypes.py:530: FutureWarning: Passing (type, 1) or '1type' as a synonym of type is deprecated; in a future version of numpy, it will be understood as (type, (1,)) / '(1,)type'.\n",
      "  _np_qint32 = np.dtype([(\"qint32\", np.int32, 1)])\n",
      "C:\\Users\\Numpy\\AppData\\Roaming\\Python\\Python36\\site-packages\\tensorflow\\python\\framework\\dtypes.py:535: FutureWarning: Passing (type, 1) or '1type' as a synonym of type is deprecated; in a future version of numpy, it will be understood as (type, (1,)) / '(1,)type'.\n",
      "  np_resource = np.dtype([(\"resource\", np.ubyte, 1)])\n",
      "C:\\Anaconda\\lib\\site-packages\\h5py\\__init__.py:36: FutureWarning: Conversion of the second argument of issubdtype from `float` to `np.floating` is deprecated. In future, it will be treated as `np.float64 == np.dtype(float).type`.\n",
      "  from ._conv import register_converters as _register_converters\n"
     ]
    }
   ],
   "source": [
    "import pandas as pd\n",
    "import numpy as np\n",
    "from sklearn.preprocessing import MinMaxScaler\n",
    "from sklearn.model_selection import train_test_split\n",
    "from tensorflow import keras\n",
    "from sklearn.metrics import mean_absolute_error"
   ]
  },
  {
   "cell_type": "code",
   "execution_count": 46,
   "metadata": {},
   "outputs": [],
   "source": [
    "data_train = pd.read_csv(r'data/used_car_train_20200313.csv',sep = ' ')\n",
    "data_test = pd.read_csv(r'data/used_car_testA_20200313.csv',sep = ' ')"
   ]
  },
  {
   "cell_type": "code",
   "execution_count": 47,
   "metadata": {},
   "outputs": [
    {
     "name": "stdout",
     "output_type": "stream",
     "text": [
      "<class 'pandas.core.frame.DataFrame'>\n",
      "RangeIndex: 150000 entries, 0 to 149999\n",
      "Data columns (total 31 columns):\n",
      "SaleID               150000 non-null int64\n",
      "name                 150000 non-null int64\n",
      "regDate              150000 non-null int64\n",
      "model                149999 non-null float64\n",
      "brand                150000 non-null int64\n",
      "bodyType             145494 non-null float64\n",
      "fuelType             141320 non-null float64\n",
      "gearbox              144019 non-null float64\n",
      "power                150000 non-null int64\n",
      "kilometer            150000 non-null float64\n",
      "notRepairedDamage    150000 non-null object\n",
      "regionCode           150000 non-null int64\n",
      "seller               150000 non-null int64\n",
      "offerType            150000 non-null int64\n",
      "creatDate            150000 non-null int64\n",
      "price                150000 non-null int64\n",
      "v_0                  150000 non-null float64\n",
      "v_1                  150000 non-null float64\n",
      "v_2                  150000 non-null float64\n",
      "v_3                  150000 non-null float64\n",
      "v_4                  150000 non-null float64\n",
      "v_5                  150000 non-null float64\n",
      "v_6                  150000 non-null float64\n",
      "v_7                  150000 non-null float64\n",
      "v_8                  150000 non-null float64\n",
      "v_9                  150000 non-null float64\n",
      "v_10                 150000 non-null float64\n",
      "v_11                 150000 non-null float64\n",
      "v_12                 150000 non-null float64\n",
      "v_13                 150000 non-null float64\n",
      "v_14                 150000 non-null float64\n",
      "dtypes: float64(20), int64(10), object(1)\n",
      "memory usage: 35.5+ MB\n"
     ]
    }
   ],
   "source": [
    "data_train.info()"
   ]
  },
  {
   "cell_type": "code",
   "execution_count": 3,
   "metadata": {},
   "outputs": [],
   "source": [
    "data_train.replace(to_replace = '-', value = np.nan, inplace = True)\n",
    "data_test.replace(to_replace = '-', value = np.nan, inplace = True)"
   ]
  },
  {
   "cell_type": "code",
   "execution_count": 4,
   "metadata": {},
   "outputs": [],
   "source": [
    "data_train.fillna(data_train.median(),inplace= True)\n",
    "data_test.fillna(data_train.median(),inplace= True)"
   ]
  },
  {
   "cell_type": "code",
   "execution_count": 5,
   "metadata": {},
   "outputs": [
    {
     "name": "stderr",
     "output_type": "stream",
     "text": [
      "C:\\Anaconda\\lib\\site-packages\\ipykernel_launcher.py:1: SettingWithCopyWarning: \n",
      "A value is trying to be set on a copy of a slice from a DataFrame\n",
      "\n",
      "See the caveats in the documentation: http://pandas.pydata.org/pandas-docs/stable/indexing.html#indexing-view-versus-copy\n",
      "  \"\"\"Entry point for launching an IPython kernel.\n",
      "C:\\Anaconda\\lib\\site-packages\\ipykernel_launcher.py:2: SettingWithCopyWarning: \n",
      "A value is trying to be set on a copy of a slice from a DataFrame\n",
      "\n",
      "See the caveats in the documentation: http://pandas.pydata.org/pandas-docs/stable/indexing.html#indexing-view-versus-copy\n",
      "  \n"
     ]
    }
   ],
   "source": [
    "data_train['power'][data_train['power']>600]=600\n",
    "data_test['power'][data_test['power']>600]=600"
   ]
  },
  {
   "cell_type": "code",
   "execution_count": 20,
   "metadata": {},
   "outputs": [
    {
     "data": {
      "text/plain": [
       "Index(['SaleID', 'name', 'regDate', 'model', 'brand', 'bodyType', 'fuelType',\n",
       "       'gearbox', 'power', 'kilometer', 'notRepairedDamage', 'regionCode',\n",
       "       'seller', 'offerType', 'creatDate', 'price', 'v_0', 'v_1', 'v_2', 'v_3',\n",
       "       'v_4', 'v_5', 'v_6', 'v_7', 'v_8', 'v_9', 'v_10', 'v_11', 'v_12',\n",
       "       'v_13', 'v_14'],\n",
       "      dtype='object')"
      ]
     },
     "execution_count": 20,
     "metadata": {},
     "output_type": "execute_result"
    }
   ],
   "source": [
    "data_train.columns"
   ]
  },
  {
   "cell_type": "code",
   "execution_count": 31,
   "metadata": {},
   "outputs": [
    {
     "data": {
      "text/plain": [
       "Index(['SaleID', 'name', 'regDate', 'model', 'brand', 'bodyType', 'fuelType',\n",
       "       'gearbox', 'power', 'kilometer', 'notRepairedDamage', 'regionCode',\n",
       "       'seller', 'offerType', 'creatDate', 'v_0', 'v_1', 'v_2', 'v_3', 'v_4',\n",
       "       'v_5', 'v_6', 'v_7', 'v_8', 'v_9', 'v_10', 'v_11', 'v_12', 'v_13',\n",
       "       'v_14'],\n",
       "      dtype='object')"
      ]
     },
     "execution_count": 31,
     "metadata": {},
     "output_type": "execute_result"
    }
   ],
   "source": [
    "data_test.columns"
   ]
  },
  {
   "cell_type": "code",
   "execution_count": 32,
   "metadata": {},
   "outputs": [],
   "source": [
    "tags = ['SaleID', 'name','model','brand','bodyType','fuelType','regionCode','regionCode','regDate','creatDate','kilometer','notRepairedDamage','power','v_0', 'v_1', 'v_2', 'v_3', 'v_4', 'v_5', 'v_6',\n",
    "       'v_7', 'v_8', 'v_9', 'v_10', 'v_11', 'v_12', 'v_13', 'v_14']"
   ]
  },
  {
   "cell_type": "code",
   "execution_count": 33,
   "metadata": {},
   "outputs": [
    {
     "name": "stderr",
     "output_type": "stream",
     "text": [
      "C:\\Anaconda\\lib\\site-packages\\sklearn\\utils\\validation.py:475: DataConversionWarning: Data with input dtype object was converted to float64 by MinMaxScaler.\n",
      "  warnings.warn(msg, DataConversionWarning)\n"
     ]
    }
   ],
   "source": [
    "min_max_scaler = MinMaxScaler()\n",
    "min_max_scaler.fit(data_train[tags].values)\n",
    "x = min_max_scaler.transform(data_train[tags].values)\n",
    "x_ = min_max_scaler.transform(data_test[tags].values)"
   ]
  },
  {
   "cell_type": "code",
   "execution_count": 34,
   "metadata": {},
   "outputs": [],
   "source": [
    "y = data_train['price'].values"
   ]
  },
  {
   "cell_type": "code",
   "execution_count": 49,
   "metadata": {},
   "outputs": [
    {
     "data": {
      "text/plain": [
       "0          1850\n",
       "1          3600\n",
       "2          6222\n",
       "3          2400\n",
       "4          5200\n",
       "5          8000\n",
       "6          3500\n",
       "7          1000\n",
       "8          2850\n",
       "9           650\n",
       "10         3100\n",
       "11         5450\n",
       "12         1600\n",
       "13         3100\n",
       "14         6900\n",
       "15         3200\n",
       "16        10500\n",
       "17         3700\n",
       "18          790\n",
       "19         1450\n",
       "20          990\n",
       "21         2800\n",
       "22          350\n",
       "23          599\n",
       "24         9250\n",
       "25         3650\n",
       "26         2800\n",
       "27         2399\n",
       "28         4900\n",
       "29         2999\n",
       "          ...  \n",
       "149970      900\n",
       "149971     3400\n",
       "149972      999\n",
       "149973     3500\n",
       "149974     4500\n",
       "149975     3990\n",
       "149976     1200\n",
       "149977      330\n",
       "149978     3350\n",
       "149979     5000\n",
       "149980     4350\n",
       "149981     9000\n",
       "149982     2000\n",
       "149983    12000\n",
       "149984     6700\n",
       "149985     4200\n",
       "149986     2800\n",
       "149987     3000\n",
       "149988     7500\n",
       "149989     1150\n",
       "149990      450\n",
       "149991    24950\n",
       "149992      950\n",
       "149993     4399\n",
       "149994    14780\n",
       "149995     5900\n",
       "149996     9500\n",
       "149997     7500\n",
       "149998     4999\n",
       "149999     4700\n",
       "Name: price, Length: 150000, dtype: int64"
      ]
     },
     "execution_count": 49,
     "metadata": {},
     "output_type": "execute_result"
    }
   ],
   "source": [
    "data_train['price']"
   ]
  },
  {
   "cell_type": "code",
   "execution_count": 35,
   "metadata": {},
   "outputs": [],
   "source": [
    "x_train,x_test,y_train,y_test = train_test_split(x,y,test_size = 0.2)"
   ]
  },
  {
   "cell_type": "code",
   "execution_count": 38,
   "metadata": {},
   "outputs": [],
   "source": [
    "model = keras.Sequential([\n",
    "        keras.layers.Dense(250,activation='relu',input_shape=[28]), \n",
    "        keras.layers.Dense(250,activation='relu'), \n",
    "        keras.layers.Dense(250,activation='relu'), \n",
    "        keras.layers.Dense(1)])\n",
    "model.compile(loss='mean_absolute_error',\n",
    "                optimizer='Adam')"
   ]
  },
  {
   "cell_type": "code",
   "execution_count": 39,
   "metadata": {},
   "outputs": [
    {
     "name": "stdout",
     "output_type": "stream",
     "text": [
      "Epoch 1/100\n",
      "120000/120000 [==============================] - 2s 14us/sample - loss: 5517.4138\n",
      "Epoch 2/100\n",
      "120000/120000 [==============================] - 1s 11us/sample - loss: 4251.3970\n",
      "Epoch 3/100\n",
      "120000/120000 [==============================] - 1s 11us/sample - loss: 3560.2737\n",
      "Epoch 4/100\n",
      "120000/120000 [==============================] - 1s 11us/sample - loss: 1833.1617\n",
      "Epoch 5/100\n",
      "120000/120000 [==============================] - 1s 11us/sample - loss: 1275.0772\n",
      "Epoch 6/100\n",
      "120000/120000 [==============================] - 1s 11us/sample - loss: 1139.7079\n",
      "Epoch 7/100\n",
      "120000/120000 [==============================] - 1s 11us/sample - loss: 1063.2230\n",
      "Epoch 8/100\n",
      "120000/120000 [==============================] - 1s 11us/sample - loss: 1007.9516\n",
      "Epoch 9/100\n",
      "120000/120000 [==============================] - 1s 11us/sample - loss: 964.70150s - loss: 97\n",
      "Epoch 10/100\n",
      "120000/120000 [==============================] - 2s 13us/sample - loss: 927.9726\n",
      "Epoch 11/100\n",
      "120000/120000 [==============================] - 1s 12us/sample - loss: 899.6954\n",
      "Epoch 12/100\n",
      "120000/120000 [==============================] - 1s 12us/sample - loss: 874.0222\n",
      "Epoch 13/100\n",
      "120000/120000 [==============================] - 2s 13us/sample - loss: 850.8191\n",
      "Epoch 14/100\n",
      "120000/120000 [==============================] - 2s 13us/sample - loss: 832.3844\n",
      "Epoch 15/100\n",
      "120000/120000 [==============================] - 1s 12us/sample - loss: 812.42990s - loss: 818\n",
      "Epoch 16/100\n",
      "120000/120000 [==============================] - 2s 13us/sample - loss: 794.2829\n",
      "Epoch 17/100\n",
      "120000/120000 [==============================] - 1s 12us/sample - loss: 779.0794\n",
      "Epoch 18/100\n",
      "120000/120000 [==============================] - 2s 13us/sample - loss: 764.8816\n",
      "Epoch 19/100\n",
      "120000/120000 [==============================] - 1s 12us/sample - loss: 754.0554\n",
      "Epoch 20/100\n",
      "120000/120000 [==============================] - 1s 12us/sample - loss: 740.72960s - loss: 741.36\n",
      "Epoch 21/100\n",
      "120000/120000 [==============================] - 2s 13us/sample - loss: 727.6601\n",
      "Epoch 22/100\n",
      "120000/120000 [==============================] - 1s 12us/sample - loss: 716.7600\n",
      "Epoch 23/100\n",
      "120000/120000 [==============================] - 1s 12us/sample - loss: 707.2289\n",
      "Epoch 24/100\n",
      "120000/120000 [==============================] - 1s 11us/sample - loss: 699.0991\n",
      "Epoch 25/100\n",
      "120000/120000 [==============================] - 1s 12us/sample - loss: 690.9839\n",
      "Epoch 26/100\n",
      "120000/120000 [==============================] - 1s 12us/sample - loss: 682.8662\n",
      "Epoch 27/100\n",
      "120000/120000 [==============================] - 1s 12us/sample - loss: 674.8488\n",
      "Epoch 28/100\n",
      "120000/120000 [==============================] - 1s 12us/sample - loss: 667.4112\n",
      "Epoch 29/100\n",
      "120000/120000 [==============================] - 1s 12us/sample - loss: 661.2855\n",
      "Epoch 30/100\n",
      "120000/120000 [==============================] - 1s 12us/sample - loss: 659.0827\n",
      "Epoch 31/100\n",
      "120000/120000 [==============================] - 2s 13us/sample - loss: 652.3391\n",
      "Epoch 32/100\n",
      "120000/120000 [==============================] - 1s 12us/sample - loss: 645.5018\n",
      "Epoch 33/100\n",
      "120000/120000 [==============================] - 2s 13us/sample - loss: 641.2585\n",
      "Epoch 34/100\n",
      "120000/120000 [==============================] - 2s 13us/sample - loss: 634.0730\n",
      "Epoch 35/100\n",
      "120000/120000 [==============================] - 2s 13us/sample - loss: 628.4276\n",
      "Epoch 36/100\n",
      "120000/120000 [==============================] - 1s 12us/sample - loss: 626.6684\n",
      "Epoch 37/100\n",
      "120000/120000 [==============================] - 2s 13us/sample - loss: 620.00690s - l\n",
      "Epoch 38/100\n",
      "120000/120000 [==============================] - 1s 12us/sample - loss: 615.8256\n",
      "Epoch 39/100\n",
      "120000/120000 [==============================] - 2s 13us/sample - loss: 610.59580s - loss: 611.122\n",
      "Epoch 40/100\n",
      "120000/120000 [==============================] - 1s 12us/sample - loss: 607.7326\n",
      "Epoch 41/100\n",
      "120000/120000 [==============================] - 2s 14us/sample - loss: 603.8358\n",
      "Epoch 42/100\n",
      "120000/120000 [==============================] - 2s 13us/sample - loss: 605.0220\n",
      "Epoch 43/100\n",
      "120000/120000 [==============================] - 1s 12us/sample - loss: 597.9803\n",
      "Epoch 44/100\n",
      "120000/120000 [==============================] - 1s 12us/sample - loss: 594.2314\n",
      "Epoch 45/100\n",
      "120000/120000 [==============================] - 2s 13us/sample - loss: 591.7035\n",
      "Epoch 46/100\n",
      "120000/120000 [==============================] - 2s 13us/sample - loss: 588.9663\n",
      "Epoch 47/100\n",
      "120000/120000 [==============================] - 2s 13us/sample - loss: 586.7661\n",
      "Epoch 48/100\n",
      "120000/120000 [==============================] - 2s 13us/sample - loss: 584.4769\n",
      "Epoch 49/100\n",
      "120000/120000 [==============================] - 2s 14us/sample - loss: 578.5725\n",
      "Epoch 50/100\n",
      "120000/120000 [==============================] - 2s 16us/sample - loss: 576.3134\n",
      "Epoch 51/100\n",
      "120000/120000 [==============================] - 2s 14us/sample - loss: 573.6651\n",
      "Epoch 52/100\n",
      "120000/120000 [==============================] - 2s 13us/sample - loss: 572.6191\n",
      "Epoch 53/100\n",
      "120000/120000 [==============================] - 2s 14us/sample - loss: 568.7347\n",
      "Epoch 54/100\n",
      "120000/120000 [==============================] - 2s 14us/sample - loss: 566.1588\n",
      "Epoch 55/100\n",
      "120000/120000 [==============================] - 1s 12us/sample - loss: 565.4168\n",
      "Epoch 56/100\n",
      "120000/120000 [==============================] - 2s 13us/sample - loss: 564.3165\n",
      "Epoch 57/100\n",
      "120000/120000 [==============================] - 2s 13us/sample - loss: 561.8666\n",
      "Epoch 58/100\n",
      "120000/120000 [==============================] - 1s 12us/sample - loss: 559.7657\n",
      "Epoch 59/100\n",
      "120000/120000 [==============================] - 2s 13us/sample - loss: 555.6973\n",
      "Epoch 60/100\n",
      "120000/120000 [==============================] - 2s 13us/sample - loss: 554.8518\n",
      "Epoch 61/100\n",
      "120000/120000 [==============================] - 2s 13us/sample - loss: 554.0311\n",
      "Epoch 62/100\n",
      "120000/120000 [==============================] - 2s 13us/sample - loss: 554.4753\n",
      "Epoch 63/100\n",
      "120000/120000 [==============================] - 2s 13us/sample - loss: 549.2881\n",
      "Epoch 64/100\n",
      "120000/120000 [==============================] - 2s 13us/sample - loss: 553.6097\n",
      "Epoch 65/100\n",
      "120000/120000 [==============================] - 1s 12us/sample - loss: 548.0045\n",
      "Epoch 66/100\n",
      "120000/120000 [==============================] - 1s 11us/sample - loss: 545.6061\n",
      "Epoch 67/100\n",
      "120000/120000 [==============================] - 1s 11us/sample - loss: 547.5932\n",
      "Epoch 68/100\n",
      "120000/120000 [==============================] - 1s 11us/sample - loss: 542.2963\n",
      "Epoch 69/100\n",
      "120000/120000 [==============================] - 1s 11us/sample - loss: 541.6034\n",
      "Epoch 70/100\n",
      "120000/120000 [==============================] - 1s 11us/sample - loss: 540.7900\n",
      "Epoch 71/100\n",
      "120000/120000 [==============================] - 1s 12us/sample - loss: 540.5846\n",
      "Epoch 72/100\n",
      "120000/120000 [==============================] - 1s 11us/sample - loss: 537.8396\n",
      "Epoch 73/100\n",
      "120000/120000 [==============================] - 1s 11us/sample - loss: 538.1147\n",
      "Epoch 74/100\n",
      "120000/120000 [==============================] - 1s 12us/sample - loss: 536.9127\n",
      "Epoch 75/100\n",
      "120000/120000 [==============================] - 1s 12us/sample - loss: 540.3953\n",
      "Epoch 76/100\n",
      "120000/120000 [==============================] - 1s 11us/sample - loss: 533.1643\n",
      "Epoch 77/100\n",
      "120000/120000 [==============================] - 1s 11us/sample - loss: 533.2517\n",
      "Epoch 78/100\n",
      "120000/120000 [==============================] - 1s 12us/sample - loss: 535.2706\n",
      "Epoch 79/100\n",
      "120000/120000 [==============================] - 1s 11us/sample - loss: 530.4484\n",
      "Epoch 80/100\n",
      "120000/120000 [==============================] - 1s 11us/sample - loss: 531.4461\n",
      "Epoch 81/100\n",
      "120000/120000 [==============================] - 1s 12us/sample - loss: 530.7040\n",
      "Epoch 82/100\n",
      "120000/120000 [==============================] - 1s 11us/sample - loss: 530.4843\n",
      "Epoch 83/100\n",
      "120000/120000 [==============================] - 1s 12us/sample - loss: 530.1790\n",
      "Epoch 84/100\n",
      "120000/120000 [==============================] - 1s 12us/sample - loss: 529.7536\n",
      "Epoch 85/100\n",
      "120000/120000 [==============================] - 1s 11us/sample - loss: 529.2493\n",
      "Epoch 86/100\n",
      "120000/120000 [==============================] - 2s 13us/sample - loss: 526.1910\n",
      "Epoch 87/100\n"
     ]
    },
    {
     "name": "stdout",
     "output_type": "stream",
     "text": [
      "120000/120000 [==============================] - 1s 12us/sample - loss: 527.3523\n",
      "Epoch 88/100\n",
      "120000/120000 [==============================] - 1s 12us/sample - loss: 525.1724\n",
      "Epoch 89/100\n",
      "120000/120000 [==============================] - 1s 11us/sample - loss: 523.8317\n",
      "Epoch 90/100\n",
      "120000/120000 [==============================] - 1s 12us/sample - loss: 522.8906\n",
      "Epoch 91/100\n",
      "120000/120000 [==============================] - 1s 12us/sample - loss: 522.8373\n",
      "Epoch 92/100\n",
      "120000/120000 [==============================] - 1s 12us/sample - loss: 522.2392\n",
      "Epoch 93/100\n",
      "120000/120000 [==============================] - 1s 12us/sample - loss: 522.5908\n",
      "Epoch 94/100\n",
      "120000/120000 [==============================] - 1s 12us/sample - loss: 520.7616\n",
      "Epoch 95/100\n",
      "120000/120000 [==============================] - 1s 12us/sample - loss: 518.6199\n",
      "Epoch 96/100\n",
      "120000/120000 [==============================] - 1s 12us/sample - loss: 519.2090\n",
      "Epoch 97/100\n",
      "120000/120000 [==============================] - 2s 15us/sample - loss: 519.7434\n",
      "Epoch 98/100\n",
      "120000/120000 [==============================] - 2s 13us/sample - loss: 520.9607\n",
      "Epoch 99/100\n",
      "120000/120000 [==============================] - 2s 13us/sample - loss: 518.9195\n",
      "Epoch 100/100\n",
      "120000/120000 [==============================] - 1s 12us/sample - loss: 517.2426\n"
     ]
    },
    {
     "data": {
      "text/plain": [
       "<tensorflow.python.keras.callbacks.History at 0x1c302491550>"
      ]
     },
     "execution_count": 39,
     "metadata": {},
     "output_type": "execute_result"
    }
   ],
   "source": [
    "model.fit(x_train,y_train,batch_size = 2048,epochs=100)"
   ]
  },
  {
   "cell_type": "code",
   "execution_count": 40,
   "metadata": {},
   "outputs": [
    {
     "data": {
      "text/plain": [
       "513.8405416517695"
      ]
     },
     "execution_count": 40,
     "metadata": {},
     "output_type": "execute_result"
    }
   ],
   "source": [
    "mean_absolute_error(y_train,model.predict(x_train))"
   ]
  },
  {
   "cell_type": "code",
   "execution_count": 41,
   "metadata": {},
   "outputs": [
    {
     "data": {
      "text/plain": [
       "530.1016377033552"
      ]
     },
     "execution_count": 41,
     "metadata": {},
     "output_type": "execute_result"
    }
   ],
   "source": [
    "mean_absolute_error(y_test,model.predict(x_test))"
   ]
  },
  {
   "cell_type": "code",
   "execution_count": 42,
   "metadata": {},
   "outputs": [],
   "source": [
    "y_=model.predict(x_)"
   ]
  },
  {
   "cell_type": "code",
   "execution_count": 43,
   "metadata": {},
   "outputs": [],
   "source": [
    "data_test_price = pd.DataFrame(y_,columns = ['price'])\n",
    "results = pd.concat([data_test['SaleID'],data_test_price],axis = 1)\n",
    "results.to_csv('results.csv',sep = ',',index = None)"
   ]
  },
  {
   "cell_type": "code",
   "execution_count": null,
   "metadata": {},
   "outputs": [],
   "source": []
  }
 ],
 "metadata": {
  "kernelspec": {
   "display_name": "Python 3",
   "language": "python",
   "name": "python3"
  },
  "language_info": {
   "codemirror_mode": {
    "name": "ipython",
    "version": 3
   },
   "file_extension": ".py",
   "mimetype": "text/x-python",
   "name": "python",
   "nbconvert_exporter": "python",
   "pygments_lexer": "ipython3",
   "version": "3.6.5"
  }
 },
 "nbformat": 4,
 "nbformat_minor": 2
}
