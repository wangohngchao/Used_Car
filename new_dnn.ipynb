{
 "cells": [
  {
   "cell_type": "code",
   "execution_count": 1,
   "metadata": {},
   "outputs": [
    {
     "name": "stderr",
     "output_type": "stream",
     "text": [
      "C:\\Users\\Numpy\\AppData\\Roaming\\Python\\Python36\\site-packages\\tensorflow\\python\\framework\\dtypes.py:526: FutureWarning: Passing (type, 1) or '1type' as a synonym of type is deprecated; in a future version of numpy, it will be understood as (type, (1,)) / '(1,)type'.\n",
      "  _np_qint8 = np.dtype([(\"qint8\", np.int8, 1)])\n",
      "C:\\Users\\Numpy\\AppData\\Roaming\\Python\\Python36\\site-packages\\tensorflow\\python\\framework\\dtypes.py:527: FutureWarning: Passing (type, 1) or '1type' as a synonym of type is deprecated; in a future version of numpy, it will be understood as (type, (1,)) / '(1,)type'.\n",
      "  _np_quint8 = np.dtype([(\"quint8\", np.uint8, 1)])\n",
      "C:\\Users\\Numpy\\AppData\\Roaming\\Python\\Python36\\site-packages\\tensorflow\\python\\framework\\dtypes.py:528: FutureWarning: Passing (type, 1) or '1type' as a synonym of type is deprecated; in a future version of numpy, it will be understood as (type, (1,)) / '(1,)type'.\n",
      "  _np_qint16 = np.dtype([(\"qint16\", np.int16, 1)])\n",
      "C:\\Users\\Numpy\\AppData\\Roaming\\Python\\Python36\\site-packages\\tensorflow\\python\\framework\\dtypes.py:529: FutureWarning: Passing (type, 1) or '1type' as a synonym of type is deprecated; in a future version of numpy, it will be understood as (type, (1,)) / '(1,)type'.\n",
      "  _np_quint16 = np.dtype([(\"quint16\", np.uint16, 1)])\n",
      "C:\\Users\\Numpy\\AppData\\Roaming\\Python\\Python36\\site-packages\\tensorflow\\python\\framework\\dtypes.py:530: FutureWarning: Passing (type, 1) or '1type' as a synonym of type is deprecated; in a future version of numpy, it will be understood as (type, (1,)) / '(1,)type'.\n",
      "  _np_qint32 = np.dtype([(\"qint32\", np.int32, 1)])\n",
      "C:\\Users\\Numpy\\AppData\\Roaming\\Python\\Python36\\site-packages\\tensorflow\\python\\framework\\dtypes.py:535: FutureWarning: Passing (type, 1) or '1type' as a synonym of type is deprecated; in a future version of numpy, it will be understood as (type, (1,)) / '(1,)type'.\n",
      "  np_resource = np.dtype([(\"resource\", np.ubyte, 1)])\n",
      "C:\\Anaconda\\lib\\site-packages\\h5py\\__init__.py:36: FutureWarning: Conversion of the second argument of issubdtype from `float` to `np.floating` is deprecated. In future, it will be treated as `np.float64 == np.dtype(float).type`.\n",
      "  from ._conv import register_converters as _register_converters\n"
     ]
    }
   ],
   "source": [
    "import pandas as pd\n",
    "import numpy as np\n",
    "from sklearn.preprocessing import MinMaxScaler\n",
    "from sklearn.model_selection import train_test_split\n",
    "from tensorflow import keras\n",
    "from sklearn.metrics import mean_absolute_error"
   ]
  },
  {
   "cell_type": "code",
   "execution_count": 13,
   "metadata": {},
   "outputs": [],
   "source": [
    "data = pd.read_csv('feature.csv', sep=',')"
   ]
  },
  {
   "cell_type": "code",
   "execution_count": 19,
   "metadata": {},
   "outputs": [],
   "source": [
    "data_train = data[:150000]"
   ]
  },
  {
   "cell_type": "code",
   "execution_count": 20,
   "metadata": {},
   "outputs": [],
   "source": [
    "data_test = data[150000:]"
   ]
  },
  {
   "cell_type": "code",
   "execution_count": 33,
   "metadata": {},
   "outputs": [
    {
     "name": "stderr",
     "output_type": "stream",
     "text": [
      "C:\\Anaconda\\lib\\site-packages\\pandas\\core\\frame.py:3795: SettingWithCopyWarning: \n",
      "A value is trying to be set on a copy of a slice from a DataFrame\n",
      "\n",
      "See the caveats in the documentation: http://pandas.pydata.org/pandas-docs/stable/indexing.html#indexing-view-versus-copy\n",
      "  method=method)\n"
     ]
    }
   ],
   "source": [
    "data_train.replace(to_replace = '-', value = np.nan, inplace = True)\n",
    "data_test.replace(to_replace = '-', value = np.nan, inplace = True)"
   ]
  },
  {
   "cell_type": "code",
   "execution_count": 34,
   "metadata": {},
   "outputs": [
    {
     "name": "stderr",
     "output_type": "stream",
     "text": [
      "C:\\Anaconda\\lib\\site-packages\\pandas\\core\\generic.py:5430: SettingWithCopyWarning: \n",
      "A value is trying to be set on a copy of a slice from a DataFrame\n",
      "\n",
      "See the caveats in the documentation: http://pandas.pydata.org/pandas-docs/stable/indexing.html#indexing-view-versus-copy\n",
      "  self._update_inplace(new_data)\n"
     ]
    }
   ],
   "source": [
    "data_train.fillna(data_train.median(),inplace= True)\n",
    "data_test.fillna(data_train.median(),inplace= True)"
   ]
  },
  {
   "cell_type": "code",
   "execution_count": 39,
   "metadata": {},
   "outputs": [],
   "source": [
    "numerical_cols = data_train.columns\n",
    "tags = [col for col in numerical_cols if col not in ['price']]"
   ]
  },
  {
   "cell_type": "code",
   "execution_count": 41,
   "metadata": {},
   "outputs": [
    {
     "name": "stderr",
     "output_type": "stream",
     "text": [
      "C:\\Anaconda\\lib\\site-packages\\sklearn\\utils\\validation.py:475: DataConversionWarning: Data with input dtype object was converted to float64 by MinMaxScaler.\n",
      "  warnings.warn(msg, DataConversionWarning)\n"
     ]
    }
   ],
   "source": [
    "min_max_scaler = MinMaxScaler()\n",
    "min_max_scaler.fit(data_train[tags].values)\n",
    "x = min_max_scaler.transform(data_train[tags].values)\n",
    "x_ = min_max_scaler.transform(data_test[tags].values)"
   ]
  },
  {
   "cell_type": "code",
   "execution_count": 47,
   "metadata": {},
   "outputs": [],
   "source": [
    "data = pd.read_csv(r'data/used_car_train_20200313.csv',sep = ' ')"
   ]
  },
  {
   "cell_type": "code",
   "execution_count": 48,
   "metadata": {},
   "outputs": [],
   "source": [
    "y = data['price'].values"
   ]
  },
  {
   "cell_type": "code",
   "execution_count": 49,
   "metadata": {},
   "outputs": [
    {
     "data": {
      "text/plain": [
       "0          1850\n",
       "1          3600\n",
       "2          6222\n",
       "3          2400\n",
       "4          5200\n",
       "5          8000\n",
       "6          3500\n",
       "7          1000\n",
       "8          2850\n",
       "9           650\n",
       "10         3100\n",
       "11         5450\n",
       "12         1600\n",
       "13         3100\n",
       "14         6900\n",
       "15         3200\n",
       "16        10500\n",
       "17         3700\n",
       "18          790\n",
       "19         1450\n",
       "20          990\n",
       "21         2800\n",
       "22          350\n",
       "23          599\n",
       "24         9250\n",
       "25         3650\n",
       "26         2800\n",
       "27         2399\n",
       "28         4900\n",
       "29         2999\n",
       "          ...  \n",
       "149970      900\n",
       "149971     3400\n",
       "149972      999\n",
       "149973     3500\n",
       "149974     4500\n",
       "149975     3990\n",
       "149976     1200\n",
       "149977      330\n",
       "149978     3350\n",
       "149979     5000\n",
       "149980     4350\n",
       "149981     9000\n",
       "149982     2000\n",
       "149983    12000\n",
       "149984     6700\n",
       "149985     4200\n",
       "149986     2800\n",
       "149987     3000\n",
       "149988     7500\n",
       "149989     1150\n",
       "149990      450\n",
       "149991    24950\n",
       "149992      950\n",
       "149993     4399\n",
       "149994    14780\n",
       "149995     5900\n",
       "149996     9500\n",
       "149997     7500\n",
       "149998     4999\n",
       "149999     4700\n",
       "Name: price, Length: 150000, dtype: int64"
      ]
     },
     "execution_count": 49,
     "metadata": {},
     "output_type": "execute_result"
    }
   ],
   "source": [
    "data['price']"
   ]
  },
  {
   "cell_type": "code",
   "execution_count": 50,
   "metadata": {},
   "outputs": [],
   "source": [
    "x_train,x_test,y_train,y_test = train_test_split(x,y,test_size = 0.2)"
   ]
  },
  {
   "cell_type": "code",
   "execution_count": 51,
   "metadata": {},
   "outputs": [
    {
     "name": "stdout",
     "output_type": "stream",
     "text": [
      "WARNING:tensorflow:From C:\\Users\\Numpy\\AppData\\Roaming\\Python\\Python36\\site-packages\\tensorflow\\python\\ops\\resource_variable_ops.py:435: colocate_with (from tensorflow.python.framework.ops) is deprecated and will be removed in a future version.\n",
      "Instructions for updating:\n",
      "Colocations handled automatically by placer.\n"
     ]
    }
   ],
   "source": [
    "model = keras.Sequential([\n",
    "        keras.layers.Dense(250,activation='relu',input_shape=[93]), \n",
    "        keras.layers.Dense(250,activation='relu'), \n",
    "        keras.layers.Dense(250,activation='relu'), \n",
    "        keras.layers.Dense(1)])\n",
    "model.compile(loss='mean_absolute_error',\n",
    "                optimizer='Adam')"
   ]
  },
  {
   "cell_type": "code",
   "execution_count": 52,
   "metadata": {},
   "outputs": [
    {
     "name": "stdout",
     "output_type": "stream",
     "text": [
      "WARNING:tensorflow:From C:\\Users\\Numpy\\AppData\\Roaming\\Python\\Python36\\site-packages\\tensorflow\\python\\ops\\math_ops.py:3066: to_int32 (from tensorflow.python.ops.math_ops) is deprecated and will be removed in a future version.\n",
      "Instructions for updating:\n",
      "Use tf.cast instead.\n",
      "Epoch 1/100\n",
      "120000/120000 [==============================] - 2s 21us/sample - loss: 4962.8223\n",
      "Epoch 2/100\n",
      "120000/120000 [==============================] - 2s 16us/sample - loss: 2996.3382\n",
      "Epoch 3/100\n",
      "120000/120000 [==============================] - 2s 17us/sample - loss: 1650.3649\n",
      "Epoch 4/100\n",
      "120000/120000 [==============================] - 2s 17us/sample - loss: 1507.0750\n",
      "Epoch 5/100\n",
      "120000/120000 [==============================] - 2s 17us/sample - loss: 1429.9139\n",
      "Epoch 6/100\n",
      "120000/120000 [==============================] - 2s 18us/sample - loss: 1364.5345\n",
      "Epoch 7/100\n",
      "120000/120000 [==============================] - 2s 17us/sample - loss: 1296.1125\n",
      "Epoch 8/100\n",
      "120000/120000 [==============================] - 2s 17us/sample - loss: 1235.8306\n",
      "Epoch 9/100\n",
      "120000/120000 [==============================] - 2s 18us/sample - loss: 1176.5417\n",
      "Epoch 10/100\n",
      "120000/120000 [==============================] - 2s 17us/sample - loss: 1127.0733\n",
      "Epoch 11/100\n",
      "120000/120000 [==============================] - 2s 17us/sample - loss: 1081.2154\n",
      "Epoch 12/100\n",
      "120000/120000 [==============================] - 2s 18us/sample - loss: 1046.8903\n",
      "Epoch 13/100\n",
      "120000/120000 [==============================] - 2s 19us/sample - loss: 1012.8773\n",
      "Epoch 14/100\n",
      "120000/120000 [==============================] - 2s 19us/sample - loss: 990.9506\n",
      "Epoch 15/100\n",
      "120000/120000 [==============================] - 2s 19us/sample - loss: 964.4595\n",
      "Epoch 16/100\n",
      "120000/120000 [==============================] - 3s 22us/sample - loss: 934.3192\n",
      "Epoch 17/100\n",
      "120000/120000 [==============================] - 2s 17us/sample - loss: 926.7683\n",
      "Epoch 18/100\n",
      "120000/120000 [==============================] - 2s 16us/sample - loss: 892.1625\n",
      "Epoch 19/100\n",
      "120000/120000 [==============================] - 2s 18us/sample - loss: 883.6342\n",
      "Epoch 20/100\n",
      "120000/120000 [==============================] - 2s 19us/sample - loss: 909.7542\n",
      "Epoch 21/100\n",
      "120000/120000 [==============================] - 2s 18us/sample - loss: 847.5894\n",
      "Epoch 22/100\n",
      "120000/120000 [==============================] - 2s 18us/sample - loss: 837.9737\n",
      "Epoch 23/100\n",
      "120000/120000 [==============================] - 2s 18us/sample - loss: 834.8014\n",
      "Epoch 24/100\n",
      "120000/120000 [==============================] - 2s 17us/sample - loss: 813.4914\n",
      "Epoch 25/100\n",
      "120000/120000 [==============================] - 2s 17us/sample - loss: 799.4747\n",
      "Epoch 26/100\n",
      "120000/120000 [==============================] - 2s 19us/sample - loss: 790.2175\n",
      "Epoch 27/100\n",
      "120000/120000 [==============================] - 2s 18us/sample - loss: 782.2355\n",
      "Epoch 28/100\n",
      "120000/120000 [==============================] - 2s 18us/sample - loss: 764.6320\n",
      "Epoch 29/100\n",
      "120000/120000 [==============================] - 2s 18us/sample - loss: 755.9278\n",
      "Epoch 30/100\n",
      "120000/120000 [==============================] - 2s 18us/sample - loss: 744.9724\n",
      "Epoch 31/100\n",
      "120000/120000 [==============================] - 2s 18us/sample - loss: 745.6626\n",
      "Epoch 32/100\n",
      "120000/120000 [==============================] - 2s 18us/sample - loss: 727.6596\n",
      "Epoch 33/100\n",
      "120000/120000 [==============================] - 2s 18us/sample - loss: 724.4029\n",
      "Epoch 34/100\n",
      "120000/120000 [==============================] - 2s 18us/sample - loss: 730.2357\n",
      "Epoch 35/100\n",
      "120000/120000 [==============================] - 2s 18us/sample - loss: 699.2995\n",
      "Epoch 36/100\n",
      "120000/120000 [==============================] - 2s 18us/sample - loss: 717.9357\n",
      "Epoch 37/100\n",
      "120000/120000 [==============================] - 2s 18us/sample - loss: 695.4911\n",
      "Epoch 38/100\n",
      "120000/120000 [==============================] - 2s 18us/sample - loss: 694.6279\n",
      "Epoch 39/100\n",
      "120000/120000 [==============================] - 2s 18us/sample - loss: 683.2985\n",
      "Epoch 40/100\n",
      "120000/120000 [==============================] - 2s 20us/sample - loss: 685.9629\n",
      "Epoch 41/100\n",
      "120000/120000 [==============================] - 2s 20us/sample - loss: 672.9221\n",
      "Epoch 42/100\n",
      "120000/120000 [==============================] - 2s 18us/sample - loss: 663.0395\n",
      "Epoch 43/100\n",
      "120000/120000 [==============================] - 2s 19us/sample - loss: 666.7375\n",
      "Epoch 44/100\n",
      "120000/120000 [==============================] - 2s 19us/sample - loss: 681.0691\n",
      "Epoch 45/100\n",
      "120000/120000 [==============================] - 2s 18us/sample - loss: 646.5268\n",
      "Epoch 46/100\n",
      "120000/120000 [==============================] - 2s 18us/sample - loss: 664.4744\n",
      "Epoch 47/100\n",
      "120000/120000 [==============================] - 2s 17us/sample - loss: 639.0751\n",
      "Epoch 48/100\n",
      "120000/120000 [==============================] - 2s 17us/sample - loss: 641.1535\n",
      "Epoch 49/100\n",
      "120000/120000 [==============================] - 2s 18us/sample - loss: 636.5872\n",
      "Epoch 50/100\n",
      "120000/120000 [==============================] - 2s 18us/sample - loss: 631.9922\n",
      "Epoch 51/100\n",
      "120000/120000 [==============================] - 2s 17us/sample - loss: 634.0283\n",
      "Epoch 52/100\n",
      "120000/120000 [==============================] - 2s 17us/sample - loss: 637.8442\n",
      "Epoch 53/100\n",
      "120000/120000 [==============================] - 2s 18us/sample - loss: 626.9863\n",
      "Epoch 54/100\n",
      "120000/120000 [==============================] - 2s 18us/sample - loss: 633.2797\n",
      "Epoch 55/100\n",
      "120000/120000 [==============================] - 2s 18us/sample - loss: 619.6080\n",
      "Epoch 56/100\n",
      "120000/120000 [==============================] - 2s 17us/sample - loss: 620.9863\n",
      "Epoch 57/100\n",
      "120000/120000 [==============================] - 2s 17us/sample - loss: 619.4913\n",
      "Epoch 58/100\n",
      "120000/120000 [==============================] - 2s 17us/sample - loss: 617.6598\n",
      "Epoch 59/100\n",
      "120000/120000 [==============================] - 2s 16us/sample - loss: 608.0322\n",
      "Epoch 60/100\n",
      "120000/120000 [==============================] - 2s 16us/sample - loss: 671.7232\n",
      "Epoch 61/100\n",
      "120000/120000 [==============================] - 2s 17us/sample - loss: 703.7460\n",
      "Epoch 62/100\n",
      "120000/120000 [==============================] - 2s 17us/sample - loss: 639.1853\n",
      "Epoch 63/100\n",
      "120000/120000 [==============================] - 2s 17us/sample - loss: 586.2570\n",
      "Epoch 64/100\n",
      "120000/120000 [==============================] - 2s 17us/sample - loss: 591.1407\n",
      "Epoch 65/100\n",
      "120000/120000 [==============================] - 2s 17us/sample - loss: 602.2924\n",
      "Epoch 66/100\n",
      "120000/120000 [==============================] - 2s 17us/sample - loss: 677.5836\n",
      "Epoch 67/100\n",
      "120000/120000 [==============================] - 2s 16us/sample - loss: 601.1810\n",
      "Epoch 68/100\n",
      "120000/120000 [==============================] - 2s 17us/sample - loss: 583.7826\n",
      "Epoch 69/100\n",
      "120000/120000 [==============================] - 2s 17us/sample - loss: 630.6849\n",
      "Epoch 70/100\n",
      "120000/120000 [==============================] - 2s 16us/sample - loss: 634.6364\n",
      "Epoch 71/100\n",
      "120000/120000 [==============================] - 2s 17us/sample - loss: 572.9938\n",
      "Epoch 72/100\n",
      "120000/120000 [==============================] - 2s 16us/sample - loss: 573.3844\n",
      "Epoch 73/100\n",
      "120000/120000 [==============================] - 2s 17us/sample - loss: 632.5020\n",
      "Epoch 74/100\n",
      "120000/120000 [==============================] - 2s 17us/sample - loss: 660.1882\n",
      "Epoch 75/100\n",
      "120000/120000 [==============================] - 2s 17us/sample - loss: 578.7967\n",
      "Epoch 76/100\n",
      "120000/120000 [==============================] - 2s 17us/sample - loss: 576.0723\n",
      "Epoch 77/100\n",
      "120000/120000 [==============================] - 2s 17us/sample - loss: 577.2031\n",
      "Epoch 78/100\n",
      "120000/120000 [==============================] - 2s 18us/sample - loss: 568.0898\n",
      "Epoch 79/100\n",
      "120000/120000 [==============================] - 2s 17us/sample - loss: 570.3177\n",
      "Epoch 80/100\n",
      "120000/120000 [==============================] - 2s 17us/sample - loss: 574.8955\n",
      "Epoch 81/100\n",
      "120000/120000 [==============================] - 2s 17us/sample - loss: 582.0125\n",
      "Epoch 82/100\n",
      "120000/120000 [==============================] - 2s 17us/sample - loss: 611.2628\n",
      "Epoch 83/100\n",
      "120000/120000 [==============================] - 2s 17us/sample - loss: 560.5942\n",
      "Epoch 84/100\n",
      "120000/120000 [==============================] - 2s 16us/sample - loss: 683.3380\n",
      "Epoch 85/100\n"
     ]
    },
    {
     "name": "stdout",
     "output_type": "stream",
     "text": [
      "120000/120000 [==============================] - 2s 17us/sample - loss: 573.5240\n",
      "Epoch 86/100\n",
      "120000/120000 [==============================] - 2s 18us/sample - loss: 568.7299\n",
      "Epoch 87/100\n",
      "120000/120000 [==============================] - 2s 18us/sample - loss: 568.0668\n",
      "Epoch 88/100\n",
      "120000/120000 [==============================] - 2s 18us/sample - loss: 577.3766\n",
      "Epoch 89/100\n",
      "120000/120000 [==============================] - 2s 18us/sample - loss: 562.5514\n",
      "Epoch 90/100\n",
      "120000/120000 [==============================] - 2s 19us/sample - loss: 568.44522s - loss: 550. - \n",
      "Epoch 91/100\n",
      "120000/120000 [==============================] - 2s 17us/sample - loss: 648.5513\n",
      "Epoch 92/100\n",
      "120000/120000 [==============================] - 2s 18us/sample - loss: 620.7039\n",
      "Epoch 93/100\n",
      "120000/120000 [==============================] - 2s 18us/sample - loss: 555.6112\n",
      "Epoch 94/100\n",
      "120000/120000 [==============================] - 2s 17us/sample - loss: 560.7597\n",
      "Epoch 95/100\n",
      "120000/120000 [==============================] - 2s 17us/sample - loss: 650.0284\n",
      "Epoch 96/100\n",
      "120000/120000 [==============================] - 2s 19us/sample - loss: 639.9566\n",
      "Epoch 97/100\n",
      "120000/120000 [==============================] - 2s 18us/sample - loss: 556.4460\n",
      "Epoch 98/100\n",
      "120000/120000 [==============================] - 2s 18us/sample - loss: 547.0081\n",
      "Epoch 99/100\n",
      "120000/120000 [==============================] - 2s 18us/sample - loss: 542.3430\n",
      "Epoch 100/100\n",
      "120000/120000 [==============================] - 2s 18us/sample - loss: 555.4020\n"
     ]
    },
    {
     "data": {
      "text/plain": [
       "<tensorflow.python.keras.callbacks.History at 0x15a1beadf60>"
      ]
     },
     "execution_count": 52,
     "metadata": {},
     "output_type": "execute_result"
    }
   ],
   "source": [
    "model.fit(x_train,y_train,batch_size = 2048,epochs=100)"
   ]
  },
  {
   "cell_type": "code",
   "execution_count": 53,
   "metadata": {},
   "outputs": [
    {
     "data": {
      "text/plain": [
       "531.8933119991814"
      ]
     },
     "execution_count": 53,
     "metadata": {},
     "output_type": "execute_result"
    }
   ],
   "source": [
    "mean_absolute_error(y_train,model.predict(x_train))"
   ]
  },
  {
   "cell_type": "code",
   "execution_count": 54,
   "metadata": {},
   "outputs": [
    {
     "data": {
      "text/plain": [
       "567.4359990369836"
      ]
     },
     "execution_count": 54,
     "metadata": {},
     "output_type": "execute_result"
    }
   ],
   "source": [
    "mean_absolute_error(y_test,model.predict(x_test))"
   ]
  },
  {
   "cell_type": "code",
   "execution_count": null,
   "metadata": {},
   "outputs": [],
   "source": []
  }
 ],
 "metadata": {
  "kernelspec": {
   "display_name": "Python 3",
   "language": "python",
   "name": "python3"
  },
  "language_info": {
   "codemirror_mode": {
    "name": "ipython",
    "version": 3
   },
   "file_extension": ".py",
   "mimetype": "text/x-python",
   "name": "python",
   "nbconvert_exporter": "python",
   "pygments_lexer": "ipython3",
   "version": "3.6.5"
  }
 },
 "nbformat": 4,
 "nbformat_minor": 2
}
